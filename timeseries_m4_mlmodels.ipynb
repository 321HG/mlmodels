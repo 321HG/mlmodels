{
  "nbformat": 4,
  "nbformat_minor": 0,
  "metadata": {
    "colab": {
      "name": "timeseries_m4_mlmodels.ipynb",
      "provenance": [],
      "collapsed_sections": [],
      "include_colab_link": true
    },
    "kernelspec": {
      "name": "python3",
      "display_name": "Python 3"
    }
  },
  "cells": [
    {
      "cell_type": "markdown",
      "metadata": {
        "id": "view-in-github",
        "colab_type": "text"
      },
      "source": [
        "<a href=\"https://colab.research.google.com/github/arita37/mlmodels/blob/dev/timeseries_m4_mlmodels.ipynb\" target=\"_parent\"><img src=\"https://colab.research.google.com/assets/colab-badge.svg\" alt=\"Open In Colab\"/></a>"
      ]
    },
    {
      "cell_type": "code",
      "metadata": {
        "id": "h5Npqzg_iCY-",
        "colab_type": "code",
        "outputId": "cc133c7d-220e-4e1f-a984-cb3551e21f8b",
        "colab": {
          "base_uri": "https://localhost:8080/",
          "height": 907
        }
      },
      "source": [
        "#### Install MLMODELS in Colab\n",
        "# %%capture\n",
        "from time import time; t0 =time()\n",
        "!  bash <(wget -qO- https://cutt.ly/mlmodels)  > log.txt\n",
        "!pip install pydantic==1.4 --force\n",
        "print(time() - t0, flush=True) \n",
        "import os, time\n",
        "os.kill(os.getpid(), 9)"
      ],
      "execution_count": 0,
      "outputs": [
        {
          "output_type": "stream",
          "text": [
            "\u001b[31mERROR: datascience 0.10.6 has requirement folium==0.2.1, but you'll have folium 0.8.3 which is incompatible.\u001b[0m\n",
            "\u001b[31mERROR: albumentations 0.1.12 has requirement imgaug<0.2.7,>=0.2.5, but you'll have imgaug 0.2.9 which is incompatible.\u001b[0m\n",
            "--2020-06-06 17:15:12--  https://raw.githubusercontent.com/arita37/mlmodels/dev/requirements.txt\n",
            "Resolving raw.githubusercontent.com (raw.githubusercontent.com)... 151.101.0.133, 151.101.64.133, 151.101.128.133, ...\n",
            "Connecting to raw.githubusercontent.com (raw.githubusercontent.com)|151.101.0.133|:443... connected.\n",
            "HTTP request sent, awaiting response... 200 OK\n",
            "Length: 441 [text/plain]\n",
            "Saving to: ‘requirements.txt’\n",
            "\n",
            "requirements.txt    100%[===================>]     441  --.-KB/s    in 0s      \n",
            "\n",
            "2020-06-06 17:15:12 (24.6 MB/s) - ‘requirements.txt’ saved [441/441]\n",
            "\n",
            "\u001b[31mERROR: torchvision 0.6.0+cu101 has requirement torch==1.5.0, but you'll have torch 1.2.0 which is incompatible.\u001b[0m\n",
            "\u001b[31mERROR: tensorflow-probability 0.10.0 has requirement gast>=0.3.2, but you'll have gast 0.2.2 which is incompatible.\u001b[0m\n",
            "\u001b[31mERROR: google-colab 1.0.0 has requirement pandas~=1.0.0; python_version >= \"3.0\", but you'll have pandas 0.25.3 which is incompatible.\u001b[0m\n",
            "\u001b[31mERROR: datascience 0.10.6 has requirement folium==0.2.1, but you'll have folium 0.8.3 which is incompatible.\u001b[0m\n",
            "\u001b[31mERROR: albumentations 0.1.12 has requirement imgaug<0.2.7,>=0.2.5, but you'll have imgaug 0.2.9 which is incompatible.\u001b[0m\n",
            "--2020-06-06 17:17:57--  https://raw.githubusercontent.com/arita37/mlmodels/dev/requirements_fake.txt\n",
            "Resolving raw.githubusercontent.com (raw.githubusercontent.com)... 151.101.0.133, 151.101.64.133, 151.101.128.133, ...\n",
            "Connecting to raw.githubusercontent.com (raw.githubusercontent.com)|151.101.0.133|:443... connected.\n",
            "HTTP request sent, awaiting response... 200 OK\n",
            "Length: 1316 (1.3K) [text/plain]\n",
            "Saving to: ‘requirements_fake.txt’\n",
            "\n",
            "requirements_fake.t 100%[===================>]   1.29K  --.-KB/s    in 0s      \n",
            "\n",
            "2020-06-06 17:17:57 (49.8 MB/s) - ‘requirements_fake.txt’ saved [1316/1316]\n",
            "\n",
            "  Running command git clone -q https://www.github.com/keras-team/keras-contrib.git /tmp/pip-req-build-k1y9ywlg\n",
            "\u001b[31mERROR: google-colab 1.0.0 has requirement pandas~=1.0.0; python_version >= \"3.0\", but you'll have pandas 0.25.3 which is incompatible.\u001b[0m\n",
            "\u001b[31mERROR: pytorch-lightning 0.7.3 has requirement future>=0.17.1, but you'll have future 0.16.0 which is incompatible.\u001b[0m\n",
            "\u001b[31mERROR: sentence-transformers 0.2.4 has requirement transformers==2.2.1, but you'll have transformers 2.3.0 which is incompatible.\u001b[0m\n",
            "\u001b[31mERROR: matchzoo-py 1.1.1 has requirement nltk>=3.4.3, but you'll have nltk 3.2.5 which is incompatible.\u001b[0m\n",
            "\u001b[31mERROR: matchzoo-py 1.1.1 has requirement pandas==0.24.2, but you'll have pandas 0.25.3 which is incompatible.\u001b[0m\n",
            "\u001b[31mERROR: matchzoo-py 1.1.1 has requirement tqdm==4.38.0, but you'll have tqdm 4.41.1 which is incompatible.\u001b[0m\n",
            "\u001b[33mWARNING: Skipping mlmodels as it is not installed.\u001b[0m\n",
            "Collecting pydantic==1.4\n",
            "  Using cached https://files.pythonhosted.org/packages/be/9a/a2d9613a70051615a84df6e9d697aad9787ba978bdeb4ad46c754457b3e1/pydantic-1.4-cp36-cp36m-manylinux2010_x86_64.whl\n",
            "Collecting dataclasses>=0.6; python_version < \"3.7\"\n",
            "  Downloading https://files.pythonhosted.org/packages/e1/d2/6f02df2616fd4016075f60157c7a0452b38d8f7938ae94343911e0fb0b09/dataclasses-0.7-py3-none-any.whl\n",
            "Installing collected packages: dataclasses, pydantic\n",
            "  Found existing installation: dataclasses 0.7\n",
            "    Uninstalling dataclasses-0.7:\n",
            "      Successfully uninstalled dataclasses-0.7\n",
            "  Found existing installation: pydantic 1.4\n",
            "    Uninstalling pydantic-1.4:\n",
            "      Successfully uninstalled pydantic-1.4\n",
            "Successfully installed dataclasses-0.7 pydantic-1.4\n"
          ],
          "name": "stdout"
        }
      ]
    },
    {
      "cell_type": "code",
      "metadata": {
        "id": "mExp5rEFniyz",
        "colab_type": "code",
        "colab": {
          "base_uri": "https://localhost:8080/",
          "height": 125
        },
        "outputId": "28dfd465-553c-4887-9bf2-a8bc9c0082f3"
      },
      "source": [
        "from google.colab import drive\n",
        "drive.mount('/content/drive')\n"
      ],
      "execution_count": 1,
      "outputs": [
        {
          "output_type": "stream",
          "text": [
            "Go to this URL in a browser: https://accounts.google.com/o/oauth2/auth?client_id=947318989803-6bn6qk8qdgf4n4g3pfee6491hc0brc4i.apps.googleusercontent.com&redirect_uri=urn%3aietf%3awg%3aoauth%3a2.0%3aoob&response_type=code&scope=email%20https%3a%2f%2fwww.googleapis.com%2fauth%2fdocs.test%20https%3a%2f%2fwww.googleapis.com%2fauth%2fdrive%20https%3a%2f%2fwww.googleapis.com%2fauth%2fdrive.photos.readonly%20https%3a%2f%2fwww.googleapis.com%2fauth%2fpeopleapi.readonly\n",
            "\n",
            "Enter your authorization code:\n",
            "··········\n",
            "Mounted at /content/drive\n"
          ],
          "name": "stdout"
        }
      ]
    },
    {
      "cell_type": "code",
      "metadata": {
        "id": "L2a3g2tpG-Hl",
        "colab_type": "code",
        "colab": {
          "base_uri": "https://localhost:8080/",
          "height": 34
        },
        "outputId": "78a560fe-aa74-4064-852c-cf1371079c51"
      },
      "source": [
        "\n",
        "from mlmodels import util\n",
        "print(util)"
      ],
      "execution_count": 2,
      "outputs": [
        {
          "output_type": "stream",
          "text": [
            "<module 'mlmodels.util' from '/usr/local/lib/python3.6/dist-packages/mlmodels/util.py'>\n"
          ],
          "name": "stdout"
        }
      ]
    },
    {
      "cell_type": "code",
      "metadata": {
        "id": "gPhLbs6wz8Jq",
        "colab_type": "code",
        "colab": {
          "base_uri": "https://localhost:8080/",
          "height": 72
        },
        "outputId": "7c667aef-3faf-4952-92bb-b95438ab17c9"
      },
      "source": [
        "# %matplotlib inline\n",
        "import numpy as np\n",
        "import pandas as pd\n",
        "import matplotlib.pyplot as plt\n",
        "%matplotlib inline\n",
        "import os\n",
        "from tqdm.autonotebook import tqdm\n",
        "from pathlib import Path\n"
      ],
      "execution_count": 3,
      "outputs": [
        {
          "output_type": "stream",
          "text": [
            "/usr/local/lib/python3.6/dist-packages/ipykernel_launcher.py:7: TqdmExperimentalWarning: Using `tqdm.autonotebook.tqdm` in notebook mode. Use `tqdm.tqdm` instead to force console mode (e.g. in jupyter console)\n",
            "  import sys\n"
          ],
          "name": "stderr"
        }
      ]
    },
    {
      "cell_type": "code",
      "metadata": {
        "id": "uCyZnn1jF1tE",
        "colab_type": "code",
        "colab": {}
      },
      "source": [
        ""
      ],
      "execution_count": 0,
      "outputs": []
    },
    {
      "cell_type": "code",
      "metadata": {
        "id": "Mw5uzBB6F19u",
        "colab_type": "code",
        "colab": {}
      },
      "source": [
        ""
      ],
      "execution_count": 0,
      "outputs": []
    },
    {
      "cell_type": "code",
      "metadata": {
        "id": "2FPnZOn-8nnd",
        "colab_type": "code",
        "colab": {
          "base_uri": "https://localhost:8080/",
          "height": 34
        },
        "outputId": "8d26381d-4029-4433-a706-4138b05a4121"
      },
      "source": [
        "\"\"\"\n",
        "Using \n",
        "https://github.com/arita37/mlmodels/blob/dev/mlmodels/example/benchmark_timeseries_m4.py\n",
        " \n",
        " \n",
        "\"\"\"\n",
        "###############  Working directory  ######################################################\n",
        "import os\n",
        "dirdrive = \"/content/drive/My Drive/Colab Notebooks/shared_session/timeseries_example/\"\n",
        "\n",
        "os.chdir( dirdrive )\n",
        "print( os.getcwd())"
      ],
      "execution_count": 4,
      "outputs": [
        {
          "output_type": "stream",
          "text": [
            "/content/drive/My Drive/Colab Notebooks/shared_session/timeseries_example\n"
          ],
          "name": "stdout"
        }
      ]
    },
    {
      "cell_type": "code",
      "metadata": {
        "id": "O5NDf0ETkFiV",
        "colab_type": "code",
        "colab": {}
      },
      "source": [
        ""
      ],
      "execution_count": 0,
      "outputs": []
    },
    {
      "cell_type": "code",
      "metadata": {
        "id": "CsJfNHnv1UR2",
        "colab_type": "code",
        "colab": {}
      },
      "source": [
        "\"\"\" naming\n",
        "\n",
        "dir_raw :  all initial data from kaggle, ...\n",
        "dir_input : all data for data_pars and model\n",
        "\n",
        "dir_inter :  intermediate data\n",
        "\n",
        "\n",
        "\"\"\""
      ],
      "execution_count": 0,
      "outputs": []
    },
    {
      "cell_type": "code",
      "metadata": {
        "id": "TT7FKtm-j9sR",
        "colab_type": "code",
        "colab": {}
      },
      "source": [
        ""
      ],
      "execution_count": 0,
      "outputs": []
    },
    {
      "cell_type": "code",
      "metadata": {
        "id": "7Nb1P4Xf6Dse",
        "colab_type": "code",
        "colab": {}
      },
      "source": [
        "\n"
      ],
      "execution_count": 0,
      "outputs": []
    },
    {
      "cell_type": "code",
      "metadata": {
        "id": "3A_nvGOv1Pjj",
        "colab_type": "code",
        "colab": {}
      },
      "source": [
        ""
      ],
      "execution_count": 0,
      "outputs": []
    },
    {
      "cell_type": "code",
      "metadata": {
        "id": "_vn85p3vkSfz",
        "colab_type": "code",
        "colab": {}
      },
      "source": [
        "\n"
      ],
      "execution_count": 0,
      "outputs": []
    },
    {
      "cell_type": "code",
      "metadata": {
        "id": "wd26Y0zqep3l",
        "colab_type": "code",
        "colab": {}
      },
      "source": [
        "!ls"
      ],
      "execution_count": 0,
      "outputs": []
    },
    {
      "cell_type": "code",
      "metadata": {
        "id": "SairPFu-qo4r",
        "colab_type": "code",
        "colab": {
          "base_uri": "https://localhost:8080/",
          "height": 34
        },
        "outputId": "5925babf-81be-4884-fa13-39d8678d5ac7"
      },
      "source": [
        "from mlmodels.preprocess.timeseries import save_to_file\n",
        "\n",
        "\"\"\"\n",
        "from pathlib import Path\n",
        "from typing import Dict, List\n",
        "def save_to_file(path: Path, data: List[Dict]):\n",
        "    print(f\"saving time-series into {path}\")\n",
        "    path_dir = os.path.dirname(path)\n",
        "    os.makedirs(path_dir, exist_ok=True)\n",
        "    with open(path, 'wb') as fp:\n",
        "        for d in data:\n",
        "            fp.write(json.dumps(d).encode(\"utf-8\"))\n",
        "            fp.write(\"\\n\".encode('utf-8'))\n",
        "\"\"\"\n",
        "print(save_to_file)\n",
        "\n",
        "\n"
      ],
      "execution_count": 5,
      "outputs": [
        {
          "output_type": "stream",
          "text": [
            "<function save_to_file at 0x7ff926439950>\n"
          ],
          "name": "stdout"
        }
      ]
    },
    {
      "cell_type": "code",
      "metadata": {
        "id": "g9w3PMqPj8kB",
        "colab_type": "code",
        "colab": {}
      },
      "source": [
        ""
      ],
      "execution_count": 0,
      "outputs": []
    },
    {
      "cell_type": "code",
      "metadata": {
        "id": "Tmkmulvwud93",
        "colab_type": "code",
        "colab": {
          "base_uri": "https://localhost:8080/",
          "height": 1000
        },
        "outputId": "9ce5fcad-a08a-4f59-e2e4-9f5422f588b4"
      },
      "source": [
        "\"\"\"\n",
        "Manual Pre-processing\n",
        "\n",
        "\"\"\"\n",
        "import json\n",
        "import pandas as pd, numpy as np\n",
        "\n",
        "\n",
        "#load data  from SHARED FOLDER\n",
        "data_folder = \"kaggle_data/m4_dataset\"\n",
        "\n",
        "\n",
        "train_df   = pd.read_csv(data_folder + '/Daily-train.csv',index_col=0)\n",
        "test_df    = pd.read_csv(data_folder + '/Daily-test.csv',index_col=0)\n",
        "print(train_df.shape, train_df.head(5))\n",
        "print(test_df.head(5))\n",
        "\n",
        "print( train_df.columns )\n",
        "print( train_df.index)\n",
        "\n",
        "\n",
        "\n",
        "#### PARAMS ####################################################################\n",
        "freq = \"D\"\n",
        "prediction_length = 14\n",
        "start_date = \"\"\n",
        "\n",
        "######################## Parameters\n",
        "single_pred_length = 14\n",
        "submission_pred_length = single_pred_length * 2\n",
        "\n",
        "submission=True\n",
        "\n",
        "if submission:\n",
        "    pred_length = submission_pred_length\n",
        "else:\n",
        "    pred_length = single_pred_length\n",
        "\n",
        "\n",
        "#### Cardinality count #########################################################\n",
        "cardinality_train = len(train_df) # 4227\n",
        "cardinality_test  = len(test_df) # 4227\n",
        "print(cardinality_train, cardinality_test)\n",
        "\n",
        "\n",
        "\n",
        "\n",
        "#### output JSON Files  ########################################################\n",
        "#data_folder = \"kaggle_data/m4_daily_test\"\n",
        "gluonts_datafolder = \"gluonts_data/m4_dataset\"\n",
        "\n",
        "train_file = gluonts_datafolder+\"/m4_daily/train/data.json\"\n",
        "test_file  = gluonts_datafolder+\"/m4_daily/test/data.json\"\n",
        "meta_file  = gluonts_datafolder+'/m4_daily/metadata.json'\n",
        "\n",
        "\n",
        "#### For mlmodel data_pars\n",
        "dataset_path  = Path( gluonts_datafolder+\"/m4_daily\" )\n",
        "\n",
        "\n",
        "\n",
        "#### Output Metadata JSON\n",
        "with open(meta_file, 'w') as f:\n",
        "      f.write( json.dumps(\n",
        "              {\"freq\": \"D\", \n",
        "               \"prediction_length\": 14, \n",
        "               \"feat_static_cat\": [{\"name\": \"feat_static_cat\", \"cardinality\":  str(cardinality_train)}]\n",
        "               }\n",
        "              )\n",
        "          )\n",
        "\n",
        "\n",
        "#### Output JSON  ##############################################################\n",
        "train_target_values = [ts[~np.isnan(ts)] for ts in train_df.values]\n",
        "print(train_target_values[:3])\n",
        "\n",
        "save_to_file(train_file,\n",
        "      [{ \"start\": \"1750-01-01 00:00:00\",\n",
        "         \"target\": list(target),\n",
        "         \"feat_static_cat\": [cat]\n",
        "  }\n",
        "          for cat, target in enumerate(train_target_values)\n",
        "      ],\n",
        "  )\n",
        "\n",
        "\n",
        "#### Output JSON  ##############################################################\n",
        "test_target_values = [\n",
        "        np.hstack([train_ts, test_ts])\n",
        "        for train_ts, test_ts in zip(train_target_values, test_df.values)\n",
        "    ]\n",
        "print(test_target_values[:3])\n",
        "\n",
        "save_to_file(test_file,\n",
        "    [\n",
        "      {\n",
        "    \"start\": \"1750-01-01 00:00:00\",\n",
        "    \"target\": list(target),\n",
        "    \"feat_static_cat\": [cat]\n",
        "}      \n",
        "        for cat, target in enumerate(test_target_values)\n",
        "    ],\n",
        ")\n",
        "\n"
      ],
      "execution_count": 6,
      "outputs": [
        {
          "output_type": "stream",
          "text": [
            "(4227, 9919)          V2       V3       V4       V5  ...  V9917  V9918  V9919  V9920\n",
            "V1                                      ...                            \n",
            "D1  1017.10  1019.30  1017.00  1019.20  ...    NaN    NaN    NaN    NaN\n",
            "D2  2793.70  2793.80  2803.70  2805.80  ...    NaN    NaN    NaN    NaN\n",
            "D3  1091.30  1088.50  1085.70  1082.90  ...    NaN    NaN    NaN    NaN\n",
            "D4  1092.00  1078.00  1064.00  1050.00  ...    NaN    NaN    NaN    NaN\n",
            "D5  2938.63  2956.44  2964.41  2972.41  ...    NaN    NaN    NaN    NaN\n",
            "\n",
            "[5 rows x 9919 columns]\n",
            "         V2       V3       V4      V5  ...      V12      V13      V14      V15\n",
            "V1                                     ...                                    \n",
            "D1  2039.20  2035.00  2051.80  2061.8  ...  2067.40  2071.40  2083.80  2080.60\n",
            "D2  2986.00  3001.20  2975.90  2996.1  ...  2991.40  3024.90  3070.80  3076.90\n",
            "D3  1120.70  1117.90  1115.10  1112.3  ...  1092.70  1089.90  1087.10  1084.30\n",
            "D4  1190.00  1162.00  1134.00  1106.0  ...   910.00  1428.00  1400.00  1372.00\n",
            "D5  5904.67  5917.05  5922.58  5928.8  ...  6077.72  6080.23  6082.75  6108.07\n",
            "\n",
            "[5 rows x 14 columns]\n",
            "Index(['V2', 'V3', 'V4', 'V5', 'V6', 'V7', 'V8', 'V9', 'V10', 'V11',\n",
            "       ...\n",
            "       'V9911', 'V9912', 'V9913', 'V9914', 'V9915', 'V9916', 'V9917', 'V9918',\n",
            "       'V9919', 'V9920'],\n",
            "      dtype='object', length=9919)\n",
            "Index(['D1', 'D2', 'D3', 'D4', 'D5', 'D6', 'D7', 'D8', 'D9', 'D10',\n",
            "       ...\n",
            "       'D4218', 'D4219', 'D4220', 'D4221', 'D4222', 'D4223', 'D4224', 'D4225',\n",
            "       'D4226', 'D4227'],\n",
            "      dtype='object', name='V1', length=4227)\n",
            "4227 4227\n",
            "[array([1017.1, 1019.3, 1017. , ..., 2022.1, 2031.6, 2029.7]), array([2793.7, 2793.8, 2803.7, ..., 2995.3, 3000.5, 2968.5]), array([1091.3, 1088.5, 1085.7, 1082.9, 1080.1, 1077.3, 1074.5, 1071.7,\n",
            "       1068.9, 1066.1, 1063.3, 1060.5, 1057.7, 1054.9, 1052.1, 1049.3,\n",
            "       1046.5, 1043.7, 1040.9, 1038.1, 1035.3, 1032.5, 1029.7, 1025.5,\n",
            "       1022.7, 1019.9, 1017.1, 1014.3, 1011.5, 1008.7, 1005.9, 1003.1,\n",
            "       1000.3,  997.5,  994.7,  991.9,  989.1,  986.3,  983.5,  980.7,\n",
            "        977.9,  975.1,  972.4,  969.5,  966.7,  963.9,  961.1,  958.3,\n",
            "        955.5,  952.7,  949.9,  947.1, 1119.3, 1117.9, 1115.1, 1112.3,\n",
            "       1109.5, 1106.7, 1103.9, 1101.1, 1098.3, 1095.5, 1092.7, 1089.9,\n",
            "       1087.1, 1084.3, 1081.5, 1078.7, 1075.9, 1073.1, 1070.3, 1067.5,\n",
            "       1064.7, 1061.9, 1059.1, 1056.3, 1053.5, 1050.7, 1047.9, 1045.2,\n",
            "       1042.3, 1039.5, 1036.7, 1033.9, 1031.1, 1028.3, 1025.5, 1022.7,\n",
            "       1019.9, 1017.1, 1014.3, 1011.5, 1008.7, 1005.9, 1003.1, 1000.3,\n",
            "        997.5,  994.7,  991.9,  989.1,  986.3,  983.6,  980.7,  977.9,\n",
            "        975.1,  972.3,  969.6,  966.7, 1182.3, 1179.5, 1176.7, 1173.9,\n",
            "       1171.1, 1168.3, 1165.5, 1162.7, 1159.9, 1157.1, 1154.4, 1151.5,\n",
            "       1148.7, 1145.9, 1143.1, 1140.3, 1137.5, 1134.7, 1131.9, 1129.1,\n",
            "       1126.3, 1123.5])]\n",
            "saving time-series into gluonts_data/m4_dataset/m4_daily/train/data.json\n",
            "[array([1017.1, 1019.3, 1017. , ..., 2071.4, 2083.8, 2080.6]), array([2793.7, 2793.8, 2803.7, ..., 3024.9, 3070.8, 3076.9]), array([1091.3, 1088.5, 1085.7, 1082.9, 1080.1, 1077.3, 1074.5, 1071.7,\n",
            "       1068.9, 1066.1, 1063.3, 1060.5, 1057.7, 1054.9, 1052.1, 1049.3,\n",
            "       1046.5, 1043.7, 1040.9, 1038.1, 1035.3, 1032.5, 1029.7, 1025.5,\n",
            "       1022.7, 1019.9, 1017.1, 1014.3, 1011.5, 1008.7, 1005.9, 1003.1,\n",
            "       1000.3,  997.5,  994.7,  991.9,  989.1,  986.3,  983.5,  980.7,\n",
            "        977.9,  975.1,  972.4,  969.5,  966.7,  963.9,  961.1,  958.3,\n",
            "        955.5,  952.7,  949.9,  947.1, 1119.3, 1117.9, 1115.1, 1112.3,\n",
            "       1109.5, 1106.7, 1103.9, 1101.1, 1098.3, 1095.5, 1092.7, 1089.9,\n",
            "       1087.1, 1084.3, 1081.5, 1078.7, 1075.9, 1073.1, 1070.3, 1067.5,\n",
            "       1064.7, 1061.9, 1059.1, 1056.3, 1053.5, 1050.7, 1047.9, 1045.2,\n",
            "       1042.3, 1039.5, 1036.7, 1033.9, 1031.1, 1028.3, 1025.5, 1022.7,\n",
            "       1019.9, 1017.1, 1014.3, 1011.5, 1008.7, 1005.9, 1003.1, 1000.3,\n",
            "        997.5,  994.7,  991.9,  989.1,  986.3,  983.6,  980.7,  977.9,\n",
            "        975.1,  972.3,  969.6,  966.7, 1182.3, 1179.5, 1176.7, 1173.9,\n",
            "       1171.1, 1168.3, 1165.5, 1162.7, 1159.9, 1157.1, 1154.4, 1151.5,\n",
            "       1148.7, 1145.9, 1143.1, 1140.3, 1137.5, 1134.7, 1131.9, 1129.1,\n",
            "       1126.3, 1123.5, 1120.7, 1117.9, 1115.1, 1112.3, 1109.5, 1106.7,\n",
            "       1103.9, 1101.1, 1098.3, 1095.5, 1092.7, 1089.9, 1087.1, 1084.3])]\n",
            "saving time-series into gluonts_data/m4_dataset/m4_daily/test/data.json\n"
          ],
          "name": "stdout"
        }
      ]
    },
    {
      "cell_type": "code",
      "metadata": {
        "id": "UZGqeTH9-2od",
        "colab_type": "code",
        "colab": {}
      },
      "source": [
        ""
      ],
      "execution_count": 0,
      "outputs": []
    },
    {
      "cell_type": "code",
      "metadata": {
        "id": "cFo9g9zhLBFV",
        "colab_type": "code",
        "colab": {}
      },
      "source": [
        "\n"
      ],
      "execution_count": 0,
      "outputs": []
    },
    {
      "cell_type": "code",
      "metadata": {
        "id": "5Jp1jEJoMjVg",
        "colab_type": "code",
        "colab": {
          "base_uri": "https://localhost:8080/",
          "height": 54
        },
        "outputId": "e58e2f68-70a9-40af-c72d-08517ff690a5"
      },
      "source": [
        "### Check the GluonTS Dataset\n",
        "from gluonts.dataset.common import ListDataset, load_datasets\n",
        "\n",
        "TD            = load_datasets(  metadata=dataset_path,\n",
        "                train=dataset_path / \"train\",\n",
        "                test=dataset_path / \"test\",)\n",
        "print(TD)"
      ],
      "execution_count": 7,
      "outputs": [
        {
          "output_type": "stream",
          "text": [
            "TrainDatasets(metadata=MetaData(freq='D', target=None, feat_static_cat=[CategoricalFeatureInfo(name='feat_static_cat', cardinality='4227')], feat_static_real=[], feat_dynamic_real=[], feat_dynamic_cat=[], prediction_length=14), train=<gluonts.dataset.common.FileDataset object at 0x7ff92645f160>, test=<gluonts.dataset.common.FileDataset object at 0x7ff92596d550>)\n"
          ],
          "name": "stdout"
        }
      ]
    },
    {
      "cell_type": "code",
      "metadata": {
        "id": "9jFUQibjwP6E",
        "colab_type": "code",
        "colab": {}
      },
      "source": [
        ""
      ],
      "execution_count": 0,
      "outputs": []
    },
    {
      "cell_type": "code",
      "metadata": {
        "id": "o8MlR9DSbRU6",
        "colab_type": "code",
        "colab": {}
      },
      "source": [
        "\n"
      ],
      "execution_count": 0,
      "outputs": []
    },
    {
      "cell_type": "code",
      "metadata": {
        "id": "HJ-C0tPYLBCU",
        "colab_type": "code",
        "colab": {}
      },
      "source": [
        ""
      ],
      "execution_count": 0,
      "outputs": []
    },
    {
      "cell_type": "code",
      "metadata": {
        "id": "DI6yrKbA2wKE",
        "colab_type": "code",
        "colab": {}
      },
      "source": [
        "\n",
        "# MLMODELS setup\n",
        "import mlmodels\n",
        "from mlmodels.models import module_load\n",
        "from mlmodels.util import path_norm_dict, path_norm, params_json_load\n",
        "import json\n",
        "\n",
        "from pprint import pprint as print2\n",
        "\n",
        "json_path=\"m4_daily_gluonts.json\"\n",
        "\n",
        "\n",
        "#### Model URI and Config JSON\n",
        "#model_uri   = \"model_keras.gluonts_model\"\n",
        "#config_path = path_norm( 'model_keras/ardmn.json'  )\n",
        "#config_mode = \"test\"  ### test/prod\n",
        "\n",
        "model_uri=\"gluonts_model\"\n",
        "\n",
        "#module=None\n",
        "\n",
        "\n",
        "\n"
      ],
      "execution_count": 0,
      "outputs": []
    },
    {
      "cell_type": "code",
      "metadata": {
        "id": "c9JXXF5n8vuA",
        "colab_type": "code",
        "colab": {}
      },
      "source": [
        "#### Load JSON File (no python is included)\n",
        "## DO NOT INCLUDE PYTHON variables, only string or json values\n",
        "jpars = {\n",
        "    \"deepar\": {\n",
        "         \"model_pars\": {\n",
        "             \"model_uri\"  : \"model_gluon.gluonts_model\",\n",
        "             \"model_name\" : \"deepar\",\n",
        "             \"model_pars\" : {\n",
        "                 \"prediction_length\": 14, \n",
        "                 \"freq\": \"D\",\n",
        "                 \"distr_output\" :  \"gluonts.distribution.student_t.StudentTOutput\", \n",
        "                \n",
        "\n",
        "                \n",
        "                 \"use_feat_static_cat\": true, \n",
        "                 \"use_feat_static_real\":false,\n",
        "                 \n",
        "                  \"num_layers\": 2, \n",
        "                  \"num_cells\": 40, \n",
        "                  \"cell_type\": \"lstm\", \n",
        "                  \"dropout_rate\": 0.1,\n",
        "\n",
        "                 \n",
        "                  \"scaling\": true, \n",
        "                  \"num_parallel_samples\": 100,\n",
        "                  \"cardinality\":  [4227]\n",
        "             }\n",
        "             \n",
        "             \n",
        "             },\n",
        "        \"data_pars\": {\n",
        "            \"train\": true, \n",
        "            \"dt_source\": \"\",\n",
        "            \"data_type\":\"gluonts\",\n",
        "\n",
        "                \n",
        "                 \"use_feat_static_cat\": true, \n",
        "                 \"use_feat_static_real\":false,\n",
        "\n",
        "           \n",
        "            \"submission\": false , \n",
        "            \"dataset_name\": \"m4_daily\" , \n",
        "            \n",
        "            \"data_path\":  \"gluonts_data/m4_dataset/m4_daily\" , \n",
        "           \n",
        "            \"single_pred_length\":28,\n",
        "            \"freq\": \"1D\",\n",
        "            \"start\" : \"1750-01-01 00:00:00\",        \n",
        "            \"startdate\" : \"1750-01-01\",  \n",
        "            \"col_date\"   : \"timestamp\",                \n",
        "            \"col_ytarget\" : [\"target\"],\n",
        "            \"num_series\" : 1,\n",
        "\n",
        "            \"cols_cat\": [],   \"cols_num\" : []\n",
        "                    \n",
        "            },\n",
        "            \n",
        "            \n",
        "        \"compute_pars\": {\n",
        "            \"num_samples\": 100,\n",
        "            \n",
        "            \"learning_rate\"         : 1e-3,\n",
        "            \"epochs\"                : 100,\n",
        "            \"num_batches_per_epoch\" : 50,\n",
        "            \"batch_size\"            : 32,   \n",
        "            \n",
        "            \"compute_pars\" : {\n",
        "                \n",
        "                \"batch_size\": 32, \"clip_gradient\": 100, \"epochs\": 100, \"init\": \"xavier\", \"learning_rate\": 1e-3, \n",
        "                \"learning_rate_decay_factor\": 0.5, \n",
        "                \"hybridize\": false,\n",
        "                \"num_batches_per_epoch\": 50,\n",
        "                \n",
        "                \"minimum_learning_rate\": 5e-05, \"patience\": 10, \"weight_decay\": 1e-08\n",
        "            }\n",
        "        },\n",
        "        \n",
        "      \"out_pars\": {\n",
        "         \"path\": \"ztest/model_gluon/gluonts_deepar/\",\n",
        "         \"plot_prob\": true, \"quantiles\": [0.5]\n",
        "      }\n",
        "    }\n",
        "}\n",
        "\n"
      ],
      "execution_count": 0,
      "outputs": []
    },
    {
      "cell_type": "code",
      "metadata": {
        "id": "F2VvjrKR8wC4",
        "colab_type": "code",
        "colab": {
          "base_uri": "https://localhost:8080/",
          "height": 905
        },
        "outputId": "424c72cd-e214-465c-ed31-88977a53de56"
      },
      "source": [
        "\n",
        "#### Load JSON\n",
        "jpars = json.load(open(json_path))\n",
        "print2(jpars)\n",
        "\n"
      ],
      "execution_count": 9,
      "outputs": [
        {
          "output_type": "stream",
          "text": [
            "{'deepar': {'compute_pars': {'batch_size': 32,\n",
            "                             'compute_pars': {'batch_size': 32,\n",
            "                                              'clip_gradient': 100,\n",
            "                                              'epochs': 100,\n",
            "                                              'hybridize': False,\n",
            "                                              'init': 'xavier',\n",
            "                                              'learning_rate': 0.001,\n",
            "                                              'learning_rate_decay_factor': 0.5,\n",
            "                                              'minimum_learning_rate': 5e-05,\n",
            "                                              'num_batches_per_epoch': 50,\n",
            "                                              'patience': 10,\n",
            "                                              'weight_decay': 1e-08},\n",
            "                             'epochs': 100,\n",
            "                             'learning_rate': 0.001,\n",
            "                             'num_batches_per_epoch': 50,\n",
            "                             'num_samples': 100},\n",
            "            'data_pars': {'col_date': 'timestamp',\n",
            "                          'col_ytarget': ['target'],\n",
            "                          'cols_cat': [],\n",
            "                          'cols_num': [],\n",
            "                          'data_path': 'gluonts_data/m4_dataset/m4_daily',\n",
            "                          'data_type': 'gluonts',\n",
            "                          'dataset_name': 'm4_daily',\n",
            "                          'dt_source': '',\n",
            "                          'freq': '1D',\n",
            "                          'num_series': 1,\n",
            "                          'single_pred_length': 28,\n",
            "                          'start': '1750-01-01 00:00:00',\n",
            "                          'startdate': '1750-01-01',\n",
            "                          'submission': False,\n",
            "                          'train': True,\n",
            "                          'use_feat_static_cat': True,\n",
            "                          'use_feat_static_real': False},\n",
            "            'model_pars': {'model_name': 'deepar',\n",
            "                           'model_pars': {'cardinality': [4227],\n",
            "                                          'cell_type': 'lstm',\n",
            "                                          'distr_output': 'gluonts.distribution.student_t.StudentTOutput',\n",
            "                                          'dropout_rate': 0.1,\n",
            "                                          'freq': 'D',\n",
            "                                          'num_cells': 40,\n",
            "                                          'num_layers': 2,\n",
            "                                          'num_parallel_samples': 100,\n",
            "                                          'prediction_length': 14,\n",
            "                                          'scaling': True,\n",
            "                                          'use_feat_static_cat': True,\n",
            "                                          'use_feat_static_real': False},\n",
            "                           'model_uri': 'model_gluon.gluonts_model'},\n",
            "            'out_pars': {'path': 'ztest/model_gluon/gluonts_deepar/',\n",
            "                         'plot_prob': True,\n",
            "                         'quantiles': [0.5]}}}\n"
          ],
          "name": "stdout"
        }
      ]
    },
    {
      "cell_type": "code",
      "metadata": {
        "id": "0W4MWeqiIF4f",
        "colab_type": "code",
        "colab": {
          "base_uri": "https://localhost:8080/",
          "height": 54
        },
        "outputId": "cb4e5ad8-6a5a-4c09-cd26-02d0c08985d4"
      },
      "source": [
        "\n",
        "for x in [ 'model_pars', 'data_pars', 'compute_pars', 'out_pars' ] :\n",
        "  globals()[x] = jpars['deepar'][x]\n",
        "print( model_pars, data_pars, compute_pars, out_pars)\n",
        "\n"
      ],
      "execution_count": 10,
      "outputs": [
        {
          "output_type": "stream",
          "text": [
            "{'model_uri': 'model_gluon.gluonts_model', 'model_name': 'deepar', 'model_pars': {'prediction_length': 14, 'freq': 'D', 'distr_output': 'gluonts.distribution.student_t.StudentTOutput', 'use_feat_static_cat': True, 'use_feat_static_real': False, 'num_layers': 2, 'num_cells': 40, 'cell_type': 'lstm', 'dropout_rate': 0.1, 'scaling': True, 'num_parallel_samples': 100, 'cardinality': [4227]}} {'train': True, 'dt_source': '', 'data_type': 'gluonts', 'use_feat_static_cat': True, 'use_feat_static_real': False, 'submission': False, 'dataset_name': 'm4_daily', 'data_path': 'gluonts_data/m4_dataset/m4_daily', 'single_pred_length': 28, 'freq': '1D', 'start': '1750-01-01 00:00:00', 'startdate': '1750-01-01', 'col_date': 'timestamp', 'col_ytarget': ['target'], 'num_series': 1, 'cols_cat': [], 'cols_num': []} {'num_samples': 100, 'learning_rate': 0.001, 'epochs': 100, 'num_batches_per_epoch': 50, 'batch_size': 32, 'compute_pars': {'batch_size': 32, 'clip_gradient': 100, 'epochs': 100, 'init': 'xavier', 'learning_rate': 0.001, 'learning_rate_decay_factor': 0.5, 'hybridize': False, 'num_batches_per_epoch': 50, 'minimum_learning_rate': 5e-05, 'patience': 10, 'weight_decay': 1e-08}} {'path': 'ztest/model_gluon/gluonts_deepar/', 'plot_prob': True, 'quantiles': [0.5]}\n"
          ],
          "name": "stdout"
        }
      ]
    },
    {
      "cell_type": "code",
      "metadata": {
        "id": "TAZVl3BW2t-3",
        "colab_type": "code",
        "colab": {}
      },
      "source": [
        ""
      ],
      "execution_count": 0,
      "outputs": []
    },
    {
      "cell_type": "code",
      "metadata": {
        "id": "Ypgx6c182uby",
        "colab_type": "code",
        "colab": {}
      },
      "source": [
        ""
      ],
      "execution_count": 0,
      "outputs": []
    },
    {
      "cell_type": "code",
      "metadata": {
        "id": "RSwBh2r14mCX",
        "colab_type": "code",
        "colab": {
          "base_uri": "https://localhost:8080/",
          "height": 354
        },
        "outputId": "1a54827f-b828-4fb5-e600-10fb8da15ab8"
      },
      "source": [
        "### https://github.com/arita37/mlmodels/blob/dev/mlmodels/model_gluon/gluonts_model.py\n",
        "\n",
        "#### Setup Model from repo\n",
        "from mlmodels.models import module_load\n",
        "#module         = module_load( model_uri)\n",
        "#model          = module.Model(model_pars, data_pars, compute_pars) \n",
        "\n",
        "\n",
        "#### Local load model\n",
        "import gluonts_model as module\n",
        "# import imp\n",
        "# imp.reload(module)\n",
        "\n",
        "\n",
        "model = module.Model(model_pars=model_pars, data_pars=data_pars, compute_pars=compute_pars)\n",
        "print(model)"
      ],
      "execution_count": 11,
      "outputs": [
        {
          "output_type": "stream",
          "text": [
            "INFO:root:Using CPU\n",
            "INFO:root:Using CPU\n",
            "INFO:root:Using CPU\n",
            "INFO:root:Using CPU\n",
            "INFO:root:Using CPU\n",
            "INFO:root:Using CPU\n",
            "INFO:root:Using CPU\n",
            "INFO:root:Using CPU\n",
            "INFO:root:Using CPU\n",
            "INFO:root:Using CPU\n",
            "INFO:root:Using CPU\n",
            "INFO:root:Using CPU\n",
            "INFO:root:Using CPU\n",
            "INFO:root:Using CPU\n",
            "INFO:root:Using CPU\n",
            "INFO:root:Using CPU\n"
          ],
          "name": "stderr"
        },
        {
          "output_type": "stream",
          "text": [
            "None\n",
            "[4227]\n",
            "<gluonts_model.Model object at 0x7ff9259255f8>\n"
          ],
          "name": "stdout"
        }
      ]
    },
    {
      "cell_type": "code",
      "metadata": {
        "id": "EPUjY8RwBGq8",
        "colab_type": "code",
        "colab": {
          "base_uri": "https://localhost:8080/",
          "height": 1000
        },
        "outputId": "4445f4a3-0c79-4e19-8a49-d0c4b67a3bcc"
      },
      "source": [
        "#### Fit          >>>>USE module.fit\n",
        "model = module.fit(model=model,data_pars= data_pars,compute_pars= compute_pars, out_pars=out_pars)           #### fit model"
      ],
      "execution_count": 0,
      "outputs": [
        {
          "output_type": "stream",
          "text": [
            "INFO:root:Start model training\n",
            "INFO:root:Epoch[0] Learning rate is 0.001\n",
            "  0%|          | 0/50 [00:00<?, ?it/s]INFO:numexpr.utils:NumExpr defaulting to 2 threads.\n"
          ],
          "name": "stderr"
        },
        {
          "output_type": "stream",
          "text": [
            "learning rate from ``lr_scheduler`` has been overwritten by ``learning_rate`` in optimizer.\n"
          ],
          "name": "stdout"
        },
        {
          "output_type": "stream",
          "text": [
            "INFO:root:Number of parameters in DeepARTrainingNetwork: 245073\n",
            "100%|██████████| 50/50 [00:09<00:00,  5.16it/s, avg_epoch_loss=7.5]\n",
            "INFO:root:Epoch[0] Elapsed time 9.689 seconds\n",
            "INFO:root:Epoch[0] Evaluation metric 'epoch_loss'=7.495181\n",
            "INFO:root:Epoch[1] Learning rate is 0.001\n",
            "100%|██████████| 50/50 [00:10<00:00,  4.99it/s, avg_epoch_loss=6.62]\n",
            "INFO:root:Epoch[1] Elapsed time 10.033 seconds\n",
            "INFO:root:Epoch[1] Evaluation metric 'epoch_loss'=6.617773\n",
            "INFO:root:Epoch[2] Learning rate is 0.001\n",
            "100%|██████████| 50/50 [00:09<00:00,  5.00it/s, avg_epoch_loss=6.66]\n",
            "INFO:root:Epoch[2] Elapsed time 9.998 seconds\n",
            "INFO:root:Epoch[2] Evaluation metric 'epoch_loss'=6.657180\n",
            "INFO:root:Epoch[3] Learning rate is 0.001\n",
            "100%|██████████| 50/50 [00:09<00:00,  5.23it/s, avg_epoch_loss=6.44]\n",
            "INFO:root:Epoch[3] Elapsed time 9.573 seconds\n",
            "INFO:root:Epoch[3] Evaluation metric 'epoch_loss'=6.444894\n",
            "INFO:root:Epoch[4] Learning rate is 0.001\n",
            "100%|██████████| 50/50 [00:09<00:00,  5.18it/s, avg_epoch_loss=6.55]\n",
            "INFO:root:Epoch[4] Elapsed time 9.647 seconds\n",
            "INFO:root:Epoch[4] Evaluation metric 'epoch_loss'=6.546751\n",
            "INFO:root:Epoch[5] Learning rate is 0.001\n",
            "100%|██████████| 50/50 [00:09<00:00,  5.12it/s, avg_epoch_loss=6.55]\n",
            "INFO:root:Epoch[5] Elapsed time 9.768 seconds\n",
            "INFO:root:Epoch[5] Evaluation metric 'epoch_loss'=6.553388\n",
            "INFO:root:Epoch[6] Learning rate is 0.001\n",
            "100%|██████████| 50/50 [00:10<00:00,  4.82it/s, avg_epoch_loss=6.3] \n",
            "INFO:root:Epoch[6] Elapsed time 10.380 seconds\n",
            "INFO:root:Epoch[6] Evaluation metric 'epoch_loss'=6.299636\n",
            "INFO:root:Epoch[7] Learning rate is 0.001\n",
            "100%|██████████| 50/50 [00:10<00:00,  4.94it/s, avg_epoch_loss=6.46]\n",
            "INFO:root:Epoch[7] Elapsed time 10.131 seconds\n",
            "INFO:root:Epoch[7] Evaluation metric 'epoch_loss'=6.455697\n",
            "INFO:root:Epoch[8] Learning rate is 0.001\n",
            "100%|██████████| 50/50 [00:10<00:00,  4.89it/s, avg_epoch_loss=6.27]\n",
            "INFO:root:Epoch[8] Elapsed time 10.237 seconds\n",
            "INFO:root:Epoch[8] Evaluation metric 'epoch_loss'=6.272274\n",
            "INFO:root:Epoch[9] Learning rate is 0.001\n",
            "100%|██████████| 50/50 [00:09<00:00,  5.07it/s, avg_epoch_loss=6.35]\n",
            "INFO:root:Epoch[9] Elapsed time 9.860 seconds\n",
            "INFO:root:Epoch[9] Evaluation metric 'epoch_loss'=6.346242\n",
            "INFO:root:Epoch[10] Learning rate is 0.001\n",
            "100%|██████████| 50/50 [00:10<00:00,  4.91it/s, avg_epoch_loss=6.38]\n",
            "INFO:root:Epoch[10] Elapsed time 10.189 seconds\n",
            "INFO:root:Epoch[10] Evaluation metric 'epoch_loss'=6.375973\n",
            "INFO:root:Epoch[11] Learning rate is 0.001\n",
            "100%|██████████| 50/50 [00:09<00:00,  5.16it/s, avg_epoch_loss=6.2]\n",
            "INFO:root:Epoch[11] Elapsed time 9.688 seconds\n",
            "INFO:root:Epoch[11] Evaluation metric 'epoch_loss'=6.200074\n",
            "INFO:root:Epoch[12] Learning rate is 0.001\n",
            "100%|██████████| 50/50 [00:10<00:00,  4.99it/s, avg_epoch_loss=6.29]\n",
            "INFO:root:Epoch[12] Elapsed time 10.028 seconds\n",
            "INFO:root:Epoch[12] Evaluation metric 'epoch_loss'=6.291752\n",
            "INFO:root:Epoch[13] Learning rate is 0.001\n",
            "100%|██████████| 50/50 [00:09<00:00,  5.05it/s, avg_epoch_loss=6.3]\n",
            "INFO:root:Epoch[13] Elapsed time 9.903 seconds\n",
            "INFO:root:Epoch[13] Evaluation metric 'epoch_loss'=6.298822\n",
            "INFO:root:Epoch[14] Learning rate is 0.001\n",
            "100%|██████████| 50/50 [00:10<00:00,  5.00it/s, avg_epoch_loss=6.19]\n",
            "INFO:root:Epoch[14] Elapsed time 10.007 seconds\n",
            "INFO:root:Epoch[14] Evaluation metric 'epoch_loss'=6.189160\n",
            "INFO:root:Epoch[15] Learning rate is 0.001\n",
            "100%|██████████| 50/50 [00:09<00:00,  5.15it/s, avg_epoch_loss=6.26]\n",
            "INFO:root:Epoch[15] Elapsed time 9.711 seconds\n",
            "INFO:root:Epoch[15] Evaluation metric 'epoch_loss'=6.264014\n",
            "INFO:root:Epoch[16] Learning rate is 0.001\n",
            "100%|██████████| 50/50 [00:09<00:00,  5.11it/s, avg_epoch_loss=6]\n",
            "INFO:root:Epoch[16] Elapsed time 9.787 seconds\n",
            "INFO:root:Epoch[16] Evaluation metric 'epoch_loss'=5.997563\n",
            "INFO:root:Epoch[17] Learning rate is 0.001\n",
            "100%|██████████| 50/50 [00:09<00:00,  5.25it/s, avg_epoch_loss=6.22]\n",
            "INFO:root:Epoch[17] Elapsed time 9.531 seconds\n",
            "INFO:root:Epoch[17] Evaluation metric 'epoch_loss'=6.219967\n",
            "INFO:root:Epoch[18] Learning rate is 0.001\n",
            "100%|██████████| 50/50 [00:09<00:00,  5.06it/s, avg_epoch_loss=6.07]\n",
            "INFO:root:Epoch[18] Elapsed time 9.881 seconds\n",
            "INFO:root:Epoch[18] Evaluation metric 'epoch_loss'=6.070296\n",
            "INFO:root:Epoch[19] Learning rate is 0.001\n",
            "100%|██████████| 50/50 [00:09<00:00,  5.19it/s, avg_epoch_loss=6.03]\n",
            "INFO:root:Epoch[19] Elapsed time 9.640 seconds\n",
            "INFO:root:Epoch[19] Evaluation metric 'epoch_loss'=6.025820\n",
            "INFO:root:Epoch[20] Learning rate is 0.001\n",
            "100%|██████████| 50/50 [00:09<00:00,  5.21it/s, avg_epoch_loss=6.14]\n",
            "INFO:root:Epoch[20] Elapsed time 9.607 seconds\n",
            "INFO:root:Epoch[20] Evaluation metric 'epoch_loss'=6.144743\n",
            "INFO:root:Epoch[21] Learning rate is 0.001\n",
            "100%|██████████| 50/50 [00:11<00:00,  4.40it/s, avg_epoch_loss=6.07]\n",
            "INFO:root:Epoch[21] Elapsed time 11.372 seconds\n",
            "INFO:root:Epoch[21] Evaluation metric 'epoch_loss'=6.070381\n",
            "INFO:root:Epoch[22] Learning rate is 0.001\n",
            "100%|██████████| 50/50 [00:10<00:00,  4.98it/s, avg_epoch_loss=6.13]\n",
            "INFO:root:Epoch[22] Elapsed time 10.067 seconds\n",
            "INFO:root:Epoch[22] Evaluation metric 'epoch_loss'=6.127712\n",
            "INFO:root:Epoch[23] Learning rate is 0.001\n",
            "100%|██████████| 50/50 [00:09<00:00,  5.04it/s, avg_epoch_loss=6.06]\n",
            "INFO:root:Epoch[23] Elapsed time 9.931 seconds\n",
            "INFO:root:Epoch[23] Evaluation metric 'epoch_loss'=6.064375\n",
            "INFO:root:Epoch[24] Learning rate is 0.001\n",
            "100%|██████████| 50/50 [00:09<00:00,  5.05it/s, avg_epoch_loss=5.92]\n",
            "INFO:root:Epoch[24] Elapsed time 9.904 seconds\n",
            "INFO:root:Epoch[24] Evaluation metric 'epoch_loss'=5.915154\n",
            "INFO:root:Epoch[25] Learning rate is 0.001\n",
            "100%|██████████| 50/50 [00:10<00:00,  4.99it/s, avg_epoch_loss=6.05]\n",
            "INFO:root:Epoch[25] Elapsed time 10.024 seconds\n",
            "INFO:root:Epoch[25] Evaluation metric 'epoch_loss'=6.053045\n",
            "INFO:root:Epoch[26] Learning rate is 0.001\n",
            "100%|██████████| 50/50 [00:10<00:00,  4.95it/s, avg_epoch_loss=6.13]\n",
            "INFO:root:Epoch[26] Elapsed time 10.103 seconds\n",
            "INFO:root:Epoch[26] Evaluation metric 'epoch_loss'=6.130606\n",
            "INFO:root:Epoch[27] Learning rate is 0.001\n",
            "100%|██████████| 50/50 [00:10<00:00,  4.82it/s, avg_epoch_loss=5.97]\n",
            "INFO:root:Epoch[27] Elapsed time 10.368 seconds\n",
            "INFO:root:Epoch[27] Evaluation metric 'epoch_loss'=5.971395\n",
            "INFO:root:Epoch[28] Learning rate is 0.001\n",
            "100%|██████████| 50/50 [00:09<00:00,  5.14it/s, avg_epoch_loss=6.05]\n",
            "INFO:root:Epoch[28] Elapsed time 9.741 seconds\n",
            "INFO:root:Epoch[28] Evaluation metric 'epoch_loss'=6.047350\n",
            "INFO:root:Epoch[29] Learning rate is 0.001\n",
            "100%|██████████| 50/50 [00:09<00:00,  5.18it/s, avg_epoch_loss=5.85]\n",
            "INFO:root:Epoch[29] Elapsed time 9.665 seconds\n",
            "INFO:root:Epoch[29] Evaluation metric 'epoch_loss'=5.848172\n",
            "INFO:root:Epoch[30] Learning rate is 0.001\n",
            "  0%|          | 0/50 [00:00<?, ?it/s]"
          ],
          "name": "stderr"
        }
      ]
    },
    {
      "cell_type": "code",
      "metadata": {
        "id": "kVScgRrMBG55",
        "colab_type": "code",
        "colab": {}
      },
      "source": [
        "y_pred = module.predict(model=model,data_pars= data_pars,compute_pars= compute_pars, out_pars=out_pars) \n",
        " "
      ],
      "execution_count": 0,
      "outputs": []
    },
    {
      "cell_type": "code",
      "metadata": {
        "id": "4fRdjKc5IGJD",
        "colab_type": "code",
        "colab": {}
      },
      "source": [
        "\n",
        "\n",
        "metrics_val = module.fit_metrics(y_pred, data_pars, compute_pars, out_pars)   #### Check fit metrics\n",
        "print(metrics_val)\n",
        "\n",
        "\n"
      ],
      "execution_count": 0,
      "outputs": []
    },
    {
      "cell_type": "code",
      "metadata": {
        "id": "yRn4t3fvBEsn",
        "colab_type": "code",
        "colab": {}
      },
      "source": [
        ""
      ],
      "execution_count": 0,
      "outputs": []
    },
    {
      "cell_type": "code",
      "metadata": {
        "id": "nUC0zgn_AGt7",
        "colab_type": "code",
        "colab": {}
      },
      "source": [
        ""
      ],
      "execution_count": 0,
      "outputs": []
    },
    {
      "cell_type": "code",
      "metadata": {
        "id": "TYrRK6HyAHBB",
        "colab_type": "code",
        "colab": {}
      },
      "source": [
        ""
      ],
      "execution_count": 0,
      "outputs": []
    },
    {
      "cell_type": "code",
      "metadata": {
        "id": "VRmd1hEUAHRH",
        "colab_type": "code",
        "colab": {}
      },
      "source": [
        ""
      ],
      "execution_count": 0,
      "outputs": []
    },
    {
      "cell_type": "code",
      "metadata": {
        "id": "IothL0Mo0-UB",
        "colab_type": "code",
        "colab": {}
      },
      "source": [
        "!ls"
      ],
      "execution_count": 0,
      "outputs": []
    },
    {
      "cell_type": "code",
      "metadata": {
        "id": "4DYHPR5LliNo",
        "colab_type": "code",
        "colab": {}
      },
      "source": [
        "module.plot_prob_forecasts(y_pred)"
      ],
      "execution_count": 0,
      "outputs": []
    },
    {
      "cell_type": "code",
      "metadata": {
        "id": "e6mhoOfBgBJw",
        "colab_type": "code",
        "colab": {}
      },
      "source": [
        ""
      ],
      "execution_count": 0,
      "outputs": []
    },
    {
      "cell_type": "code",
      "metadata": {
        "id": "2CU0WGAET4Bp",
        "colab_type": "code",
        "colab": {}
      },
      "source": [
        ""
      ],
      "execution_count": 0,
      "outputs": []
    },
    {
      "cell_type": "code",
      "metadata": {
        "id": "G9BqyB1TY_xX",
        "colab_type": "code",
        "colab": {}
      },
      "source": [
        ""
      ],
      "execution_count": 0,
      "outputs": []
    },
    {
      "cell_type": "code",
      "metadata": {
        "id": "10HNinlwY__I",
        "colab_type": "code",
        "colab": {}
      },
      "source": [
        "#### Save/Load\n",
        "module.save(model, save_pars = { 'path': out_pars['path'] +\"/model/\"})\n",
        "\n",
        "model2 = module.load(load_pars = { 'path': out_pars['path'] +\"/model/\"})\n",
        "\n"
      ],
      "execution_count": 0,
      "outputs": []
    },
    {
      "cell_type": "code",
      "metadata": {
        "id": "NqRzPXKjqbPc",
        "colab_type": "code",
        "colab": {}
      },
      "source": [
        ""
      ],
      "execution_count": 0,
      "outputs": []
    },
    {
      "cell_type": "code",
      "metadata": {
        "id": "fO_7s2AXjGgw",
        "colab_type": "code",
        "colab": {}
      },
      "source": [
        "!ls 'kaggle_data'"
      ],
      "execution_count": 0,
      "outputs": []
    },
    {
      "cell_type": "code",
      "metadata": {
        "id": "cHYKH49Bmc-G",
        "colab_type": "code",
        "colab": {}
      },
      "source": [
        ""
      ],
      "execution_count": 0,
      "outputs": []
    },
    {
      "cell_type": "code",
      "metadata": {
        "id": "qOl6FZSCZANk",
        "colab_type": "code",
        "colab": {}
      },
      "source": [
        ""
      ],
      "execution_count": 0,
      "outputs": []
    },
    {
      "cell_type": "code",
      "metadata": {
        "id": "D-ExVzLFZhZF",
        "colab_type": "code",
        "colab": {}
      },
      "source": [
        ""
      ],
      "execution_count": 0,
      "outputs": []
    },
    {
      "cell_type": "code",
      "metadata": {
        "id": "YvqgaAKIaG6j",
        "colab_type": "code",
        "colab": {}
      },
      "source": [
        "\n"
      ],
      "execution_count": 0,
      "outputs": []
    },
    {
      "cell_type": "code",
      "metadata": {
        "id": "hsRUm_0Fbohj",
        "colab_type": "code",
        "colab": {}
      },
      "source": [
        ""
      ],
      "execution_count": 0,
      "outputs": []
    },
    {
      "cell_type": "code",
      "metadata": {
        "id": "YYv1btoWn8zu",
        "colab_type": "code",
        "colab": {}
      },
      "source": [
        ""
      ],
      "execution_count": 0,
      "outputs": []
    },
    {
      "cell_type": "code",
      "metadata": {
        "id": "6v4ohaxWoMnU",
        "colab_type": "code",
        "colab": {}
      },
      "source": [
        ""
      ],
      "execution_count": 0,
      "outputs": []
    },
    {
      "cell_type": "code",
      "metadata": {
        "id": "AJDT0kdFD2X0",
        "colab_type": "code",
        "colab": {}
      },
      "source": [
        ""
      ],
      "execution_count": 0,
      "outputs": []
    },
    {
      "cell_type": "code",
      "metadata": {
        "id": "UsL_CekrwP9o",
        "colab_type": "code",
        "colab": {}
      },
      "source": [
        ""
      ],
      "execution_count": 0,
      "outputs": []
    }
  ]
}