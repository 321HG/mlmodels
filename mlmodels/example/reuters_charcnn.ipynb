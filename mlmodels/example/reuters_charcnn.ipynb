{
 "cells": [
  {
   "cell_type": "code",
   "execution_count": 1,
   "metadata": {},
   "outputs": [],
   "source": [
    "%load_ext autoreload\n",
    "%autoreload 2\n",
    "\n",
    "# import library\n",
    "import mlmodels\n",
    "from mlmodels.models import module_load\n",
    "from mlmodels.util import path_norm_dict, path_norm, params_json_load\n",
    "import json"
   ]
  },
  {
   "cell_type": "code",
   "execution_count": 18,
   "metadata": {},
   "outputs": [],
   "source": [
    "config_path  = 'reuters_charcnn.json'  \n",
    "model_uri    = \"model_keras/charcnn.py\"\n",
    "config_mode  = \"test\""
   ]
  },
  {
   "cell_type": "code",
   "execution_count": 36,
   "metadata": {},
   "outputs": [
    {
     "name": "stdout",
     "output_type": "stream",
     "text": [
      "/Users/lai/congviec/upwork/mlmodels/mlmodels\n"
     ]
    }
   ],
   "source": [
    "pars = json.load(open( config_path , mode='r'))[config_mode]\n",
    "model_pars      = path_norm_dict( pars['model_pars'] )\n",
    "data_pars       = path_norm_dict( pars['data_pars'] )\n",
    "compute_pars    = path_norm_dict( pars['compute_pars'] )\n",
    "out_pars        = path_norm_dict( pars['out_pars'] )"
   ]
  },
  {
   "cell_type": "code",
   "execution_count": 37,
   "metadata": {},
   "outputs": [],
   "source": [
    "module         =  module_load( model_uri= model_uri)"
   ]
  },
  {
   "cell_type": "code",
   "execution_count": 41,
   "metadata": {},
   "outputs": [
    {
     "name": "stdout",
     "output_type": "stream",
     "text": [
      "CharCNNKim model built: \n",
      "Model: \"model_19\"\n",
      "__________________________________________________________________________________________________\n",
      "Layer (type)                    Output Shape         Param #     Connected to                     \n",
      "==================================================================================================\n",
      "sent_input (InputLayer)         (None, 1014)         0                                            \n",
      "__________________________________________________________________________________________________\n",
      "embedding_19 (Embedding)        (None, 1014, 128)    8960        sent_input[0][0]                 \n",
      "__________________________________________________________________________________________________\n",
      "Conv1D_256_10 (Conv1D)          (None, 1005, 256)    327936      embedding_19[0][0]               \n",
      "__________________________________________________________________________________________________\n",
      "Conv1D_256_7 (Conv1D)           (None, 1008, 256)    229632      embedding_19[0][0]               \n",
      "__________________________________________________________________________________________________\n",
      "Conv1D_256_5 (Conv1D)           (None, 1010, 256)    164096      embedding_19[0][0]               \n",
      "__________________________________________________________________________________________________\n",
      "Conv1D_256_3 (Conv1D)           (None, 1012, 256)    98560       embedding_19[0][0]               \n",
      "__________________________________________________________________________________________________\n",
      "MaxPoolingOverTime_256_10 (Glob (None, 256)          0           Conv1D_256_10[0][0]              \n",
      "__________________________________________________________________________________________________\n",
      "MaxPoolingOverTime_256_7 (Globa (None, 256)          0           Conv1D_256_7[0][0]               \n",
      "__________________________________________________________________________________________________\n",
      "MaxPoolingOverTime_256_5 (Globa (None, 256)          0           Conv1D_256_5[0][0]               \n",
      "__________________________________________________________________________________________________\n",
      "MaxPoolingOverTime_256_3 (Globa (None, 256)          0           Conv1D_256_3[0][0]               \n",
      "__________________________________________________________________________________________________\n",
      "concatenate_19 (Concatenate)    (None, 1024)         0           MaxPoolingOverTime_256_10[0][0]  \n",
      "                                                                 MaxPoolingOverTime_256_7[0][0]   \n",
      "                                                                 MaxPoolingOverTime_256_5[0][0]   \n",
      "                                                                 MaxPoolingOverTime_256_3[0][0]   \n",
      "__________________________________________________________________________________________________\n",
      "dense_55 (Dense)                (None, 1024)         1049600     concatenate_19[0][0]             \n",
      "__________________________________________________________________________________________________\n",
      "alpha_dropout_37 (AlphaDropout) (None, 1024)         0           dense_55[0][0]                   \n",
      "__________________________________________________________________________________________________\n",
      "dense_56 (Dense)                (None, 1024)         1049600     alpha_dropout_37[0][0]           \n",
      "__________________________________________________________________________________________________\n",
      "alpha_dropout_38 (AlphaDropout) (None, 1024)         0           dense_56[0][0]                   \n",
      "__________________________________________________________________________________________________\n",
      "dense_57 (Dense)                (None, 46)           47150       alpha_dropout_38[0][0]           \n",
      "==================================================================================================\n",
      "Total params: 2,975,534\n",
      "Trainable params: 2,975,534\n",
      "Non-trainable params: 0\n",
      "__________________________________________________________________________________________________\n",
      "Loading data...\n",
      "/Users/lai/congviec/upwork/mlmodels/mlmodels\n",
      "Data loaded from /Users/lai/congviec/upwork/mlmodels/mlmodels/dataset/text/ag_news_csv/train.csv\n",
      "/Users/lai/congviec/upwork/mlmodels/mlmodels\n",
      "Data loaded from /Users/lai/congviec/upwork/mlmodels/mlmodels/dataset/text/ag_news_csv/test.csv\n",
      "1014\n",
      "[0 0 1 0 0 0 0 0 0 0 0 0 0 0 0 0 0 0 0 0 0 0 0 0 0 0 0 0 0 0 0 0 0 0 0 0 0\n",
      " 0 0 0 0 0 0 0 0 0]\n",
      "[40 12 21 ...  0  0  0]\n",
      "[0 0 1 0 0 0 0 0 0 0 0 0 0 0 0 0 0 0 0 0 0 0 0 0 0 0 0 0 0 0 0 0 0 0 0 0 0\n",
      " 0 0 0 0 0 0 0 0 0]\n",
      "Train on 354 samples, validate on 236 samples\n",
      "Epoch 1/1\n",
      "354/354 [==============================] - 26s 74ms/step - loss: 2.4413 - val_loss: 9.6382\n"
     ]
    },
    {
     "name": "stderr",
     "output_type": "stream",
     "text": [
      "/Users/lai/congviec/upwork/mlmodels/env/lib/python3.7/site-packages/keras/callbacks/callbacks.py:846: RuntimeWarning: Early stopping conditioned on metric `val_acc` which is not available. Available metrics are: val_loss,loss\n",
      "  (self.monitor, ','.join(list(logs.keys()))), RuntimeWarning\n"
     ]
    }
   ],
   "source": [
    "model = module.Model(model_pars, data_pars, compute_pars) # create model instance\n",
    "model, session = module.fit(model, data_pars, compute_pars, out_pars)"
   ]
  },
  {
   "cell_type": "code",
   "execution_count": null,
   "metadata": {},
   "outputs": [],
   "source": []
  }
 ],
 "metadata": {
  "kernelspec": {
   "display_name": "mlmodels",
   "language": "python",
   "name": "myenv"
  },
  "language_info": {
   "codemirror_mode": {
    "name": "ipython",
    "version": 3
   },
   "file_extension": ".py",
   "mimetype": "text/x-python",
   "name": "python",
   "nbconvert_exporter": "python",
   "pygments_lexer": "ipython3",
   "version": "3.7.6"
  }
 },
 "nbformat": 4,
 "nbformat_minor": 2
}
