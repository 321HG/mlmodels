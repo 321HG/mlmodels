{
 "cells": [
  {
   "cell_type": "code",
   "execution_count": 1,
   "metadata": {},
   "outputs": [],
   "source": [
    "# import library\n",
    "import mlmodels"
   ]
  },
  {
   "cell_type": "markdown",
   "metadata": {},
   "source": [
    "## Define model and data definitions"
   ]
  },
  {
   "cell_type": "code",
   "execution_count": 2,
   "metadata": {},
   "outputs": [],
   "source": [
    "model_uri    = \"model_tf.1_lstm.py\"\n",
    "model_pars   =  {  \n",
    "                    \"num_layers\": 1,\n",
    "                    \"size\": 6, \n",
    "                    \"size_layer\": 128, \n",
    "                    \"output_size\": 6, \n",
    "                    \"timestep\": 4,\n",
    "                }\n",
    "data_pars    =  {\n",
    "                    \"data_path\": \"../mlmodels/dataset/timeseries/GOOG-year.csv\"  , \n",
    "                    \"data_type\": \"pandas\",\n",
    "                    \"size\": [0, 0, 6],\n",
    "                    \"output_size\": [0, 6]\n",
    "                }\n",
    "compute_pars =  { \"learning_rate\": 0.001, \"epoch\":2}\n",
    "\n",
    "out_pars     =  { \"path\": \"ztest_1lstm/\", \"model_path\" : \"ztest_1lstm/model/\"}\n",
    "save_pars = { \"path\" : \"ztest_1lstm/model/\" }\n",
    "load_pars = { \"path\" : \"ztest_1lstm/model/\" }"
   ]
  },
  {
   "cell_type": "markdown",
   "metadata": {},
   "source": [
    "## Load parameters and train"
   ]
  },
  {
   "cell_type": "code",
   "execution_count": 3,
   "metadata": {},
   "outputs": [
    {
     "name": "stdout",
     "output_type": "stream",
     "text": [
      "{'data_path': '../mlmodels/dataset/GOOG-year.csv', 'data_type': 'pandas', 'size': [0, 0, 6], 'output_size': [0, 6]}\n",
      "../mlmodels/dataset/GOOG-year.csv\n",
      "         Date        Open        High         Low       Close   Adj Close  \\\n",
      "0  2016-11-02  778.200012  781.650024  763.450012  768.700012  768.700012   \n",
      "1  2016-11-03  767.250000  769.950012  759.030029  762.130005  762.130005   \n",
      "2  2016-11-04  750.659973  770.359985  750.560974  762.020020  762.020020   \n",
      "3  2016-11-07  774.500000  785.190002  772.549988  782.520020  782.520020   \n",
      "4  2016-11-08  783.400024  795.632996  780.190002  790.510010  790.510010   \n",
      "\n",
      "    Volume  \n",
      "0  1872400  \n",
      "1  1943200  \n",
      "2  2134800  \n",
      "3  1585100  \n",
      "4  1350800  \n",
      "          0         1         2         3         4         5\n",
      "0  0.706562  0.629914  0.682052  0.599302  0.599302  0.153665\n",
      "1  0.458824  0.320251  0.598101  0.478596  0.478596  0.174523\n",
      "2  0.083484  0.331101  0.437246  0.476576  0.476576  0.230969\n",
      "3  0.622851  0.723606  0.854891  0.853206  0.853206  0.069025\n",
      "4  0.824209  1.000000  1.000000  1.000000  1.000000  0.000000\n"
     ]
    }
   ],
   "source": [
    "from mlmodels.models import module_load\n",
    "\n",
    "module        =  module_load( model_uri= model_uri )                           # Load file definition\n",
    "model         =  module.Model(model_pars=model_pars, data_pars=data_pars, compute_pars=compute_pars)             # Create Model instance\n",
    "model, sess   =  module.fit(model, data_pars=data_pars, compute_pars=compute_pars, out_pars=out_pars)          # fit the model"
   ]
  },
  {
   "cell_type": "markdown",
   "metadata": {},
   "source": [
    "## Check inference"
   ]
  },
  {
   "cell_type": "code",
   "execution_count": 4,
   "metadata": {},
   "outputs": [],
   "source": [
    "metrics_val   =  module.fit_metrics( model, sess, data_pars, compute_pars, out_pars) # get stats\n",
    "# module.save(model, sess, save_pars)"
   ]
  },
  {
   "cell_type": "code",
   "execution_count": 5,
   "metadata": {},
   "outputs": [
    {
     "name": "stdout",
     "output_type": "stream",
     "text": [
      "{'data_path': '../mlmodels/dataset/GOOG-year.csv', 'data_type': 'pandas', 'size': [0, 0, 6], 'output_size': [0, 6]}\n",
      "../mlmodels/dataset/GOOG-year.csv\n",
      "         Date        Open        High         Low       Close   Adj Close  \\\n",
      "0  2016-11-02  778.200012  781.650024  763.450012  768.700012  768.700012   \n",
      "1  2016-11-03  767.250000  769.950012  759.030029  762.130005  762.130005   \n",
      "2  2016-11-04  750.659973  770.359985  750.560974  762.020020  762.020020   \n",
      "3  2016-11-07  774.500000  785.190002  772.549988  782.520020  782.520020   \n",
      "4  2016-11-08  783.400024  795.632996  780.190002  790.510010  790.510010   \n",
      "\n",
      "    Volume  \n",
      "0  1872400  \n",
      "1  1943200  \n",
      "2  2134800  \n",
      "3  1585100  \n",
      "4  1350800  \n",
      "          0         1         2         3         4         5\n",
      "0  0.706562  0.629914  0.682052  0.599302  0.599302  0.153665\n",
      "1  0.458824  0.320251  0.598101  0.478596  0.478596  0.174523\n",
      "2  0.083484  0.331101  0.437246  0.476576  0.476576  0.230969\n",
      "3  0.622851  0.723606  0.854891  0.853206  0.853206  0.069025\n",
      "4  0.824209  1.000000  1.000000  1.000000  1.000000  0.000000\n",
      "5  0.745928  0.883387  0.838176  0.904464  0.904464  0.370110\n",
      "6  1.000000  0.881878  0.467996  0.486496  0.486496  1.000000\n",
      "7  0.216516  0.077549  0.433808  0.329598  0.329598  0.318466\n",
      "8  0.195249  0.000000  0.000000  0.000000  0.000000  0.671960\n",
      "9  0.000000  0.173783  0.369041  0.411721  0.411721  0.304384\n"
     ]
    }
   ],
   "source": [
    "\n",
    "#### Inference\n",
    "# model, sess = load(load_pars)    #Create Model instance\n",
    "ypred       = module.predict(model, sess=sess,  data_pars=data_pars, compute_pars=compute_pars, out_pars=out_pars)     # predict pipeline\n"
   ]
  },
  {
   "cell_type": "markdown",
   "metadata": {},
   "source": [
    "## Command line test"
   ]
  },
  {
   "cell_type": "code",
   "execution_count": 6,
   "metadata": {},
   "outputs": [
    {
     "name": "stdout",
     "output_type": "stream",
     "text": [
      "test\n",
      "model_tf/1_lstm.py\n",
      "model_tf.1_lstm.py\n",
      "<module 'mlmodels.model_tf.1_lstm' from '/home/jalfaizy/workspace/upwork/mlmodels/mlmodels/model_tf/1_lstm.py'>\n",
      "<module 'mlmodels.model_tf.1_lstm' from '/home/jalfaizy/workspace/upwork/mlmodels/mlmodels/model_tf/1_lstm.py'>\n",
      "\n",
      "  ('#### Loading params   ##############################################',) \n",
      "/home/jalfaizy/workspace/upwork/mlmodels/mlmodels/dataset/GOOG-year.csv\n",
      "\n",
      "  ('############# Data, Params preparation   #################',) \n",
      "{'learning_rate': 0.001, 'num_layers': 1, 'size': None, 'size_layer': 128, 'output_size': None, 'timestep': 4, 'epoch': 2} {'data_path': '/home/jalfaizy/workspace/upwork/mlmodels/mlmodels/dataset/GOOG-year.csv', 'data_type': 'pandas'} {} {'path': '/home/jalfaizy/workspace/upwork/mlmodels/mlmodels/dataset/GOOG-year.csv'}\n",
      "\n",
      "  ('#### Loading dataset   #############################################',) \n",
      "{'data_path': '/home/jalfaizy/workspace/upwork/mlmodels/mlmodels/dataset/GOOG-year.csv', 'data_type': 'pandas'}\n",
      "/home/jalfaizy/workspace/upwork/mlmodels/mlmodels/dataset/GOOG-year.csv\n",
      "         Date        Open        High  ...       Close   Adj Close   Volume\n",
      "0  2016-11-02  778.200012  781.650024  ...  768.700012  768.700012  1872400\n",
      "1  2016-11-03  767.250000  769.950012  ...  762.130005  762.130005  1943200\n",
      "2  2016-11-04  750.659973  770.359985  ...  762.020020  762.020020  2134800\n",
      "3  2016-11-07  774.500000  785.190002  ...  782.520020  782.520020  1585100\n",
      "4  2016-11-08  783.400024  795.632996  ...  790.510010  790.510010  1350800\n",
      "\n",
      "[5 rows x 7 columns]\n",
      "\n",
      "  ('############ Model preparation   #########################',) \n",
      "<module 'mlmodels.model_tf.1_lstm' from '/home/jalfaizy/workspace/upwork/mlmodels/mlmodels/model_tf/1_lstm.py'> <mlmodels.model_tf.1_lstm.Model object at 0x7fd045377f28>\n",
      "\n",
      "  ('############ Model fit   ##################################',) \n",
      "{'data_path': '/home/jalfaizy/workspace/upwork/mlmodels/mlmodels/dataset/GOOG-year.csv', 'data_type': 'pandas'}\n",
      "/home/jalfaizy/workspace/upwork/mlmodels/mlmodels/dataset/GOOG-year.csv\n",
      "         Date        Open        High  ...       Close   Adj Close   Volume\n",
      "0  2016-11-02  778.200012  781.650024  ...  768.700012  768.700012  1872400\n",
      "1  2016-11-03  767.250000  769.950012  ...  762.130005  762.130005  1943200\n",
      "2  2016-11-04  750.659973  770.359985  ...  762.020020  762.020020  2134800\n",
      "3  2016-11-07  774.500000  785.190002  ...  782.520020  782.520020  1585100\n",
      "4  2016-11-08  783.400024  795.632996  ...  790.510010  790.510010  1350800\n",
      "\n",
      "[5 rows x 7 columns]\n",
      "          0         1         2         3         4         5\n",
      "0  0.706562  0.629914  0.682052  0.599302  0.599302  0.153665\n",
      "1  0.458824  0.320251  0.598101  0.478596  0.478596  0.174523\n",
      "2  0.083484  0.331101  0.437246  0.476576  0.476576  0.230969\n",
      "3  0.622851  0.723606  0.854891  0.853206  0.853206  0.069025\n",
      "4  0.824209  1.000000  1.000000  1.000000  1.000000  0.000000\n",
      "fit success <tensorflow.python.client.session.InteractiveSession object at 0x7fd0312bc390>\n",
      "\n",
      "  ('############ Prediction##########################',) \n",
      "{'data_path': '/home/jalfaizy/workspace/upwork/mlmodels/mlmodels/dataset/GOOG-year.csv', 'data_type': 'pandas'}\n",
      "/home/jalfaizy/workspace/upwork/mlmodels/mlmodels/dataset/GOOG-year.csv\n",
      "         Date        Open        High  ...       Close   Adj Close   Volume\n",
      "0  2016-11-02  778.200012  781.650024  ...  768.700012  768.700012  1872400\n",
      "1  2016-11-03  767.250000  769.950012  ...  762.130005  762.130005  1943200\n",
      "2  2016-11-04  750.659973  770.359985  ...  762.020020  762.020020  2134800\n",
      "3  2016-11-07  774.500000  785.190002  ...  782.520020  782.520020  1585100\n",
      "4  2016-11-08  783.400024  795.632996  ...  790.510010  790.510010  1350800\n",
      "\n",
      "[5 rows x 7 columns]\n",
      "          0         1         2         3         4         5\n",
      "0  0.706562  0.629914  0.682052  0.599302  0.599302  0.153665\n",
      "1  0.458824  0.320251  0.598101  0.478596  0.478596  0.174523\n",
      "2  0.083484  0.331101  0.437246  0.476576  0.476576  0.230969\n",
      "3  0.622851  0.723606  0.854891  0.853206  0.853206  0.069025\n",
      "4  0.824209  1.000000  1.000000  1.000000  1.000000  0.000000\n",
      "5  0.745928  0.883387  0.838176  0.904464  0.904464  0.370110\n",
      "6  1.000000  0.881878  0.467996  0.486496  0.486496  1.000000\n",
      "7  0.216516  0.077549  0.433808  0.329598  0.329598  0.318466\n",
      "8  0.195249  0.000000  0.000000  0.000000  0.000000  0.671960\n",
      "9  0.000000  0.173783  0.369041  0.411721  0.411721  0.304384\n",
      "[[ 0.          0.          0.          0.          0.          0.        ]\n",
      " [ 0.0279328   0.10219397  0.0585938   0.12807663 -0.00338444 -0.00702248]\n",
      " [-0.00114997 -0.03504666 -0.08303268 -0.17390592 -0.08833178 -0.0654519 ]\n",
      " [-0.06230538  0.13729812 -0.0098739  -0.04368545 -0.08132192 -0.15368435]\n",
      " [-0.18934791 -0.1070461   0.4161737   0.44123149 -0.07361788  0.29599226]\n",
      " [ 0.35764921  0.16511476 -0.20223759 -0.31232613 -0.33688417  0.03982151]\n",
      " [-0.18665907  0.06962908 -0.07102118  0.09161542 -0.07877401  0.69183648]\n",
      " [-0.03253771  0.01923316 -0.46111572  0.43327171 -0.27451408  0.4818624 ]\n",
      " [-0.55113947  0.59367442  0.81368935  0.1017545  -0.3073478  -0.57748991]\n",
      " [ 0.          0.          0.          0.          0.          0.        ]]\n",
      "model_tf/1_lstm.py\n",
      "model_tf.1_lstm.py\n",
      "<module 'mlmodels.model_tf.1_lstm' from '/home/jalfaizy/workspace/upwork/mlmodels/mlmodels/model_tf/1_lstm.py'>\n",
      "<module 'mlmodels.model_tf.1_lstm' from '/home/jalfaizy/workspace/upwork/mlmodels/mlmodels/model_tf/1_lstm.py'>\n",
      "\n",
      "  ('#### Loading params   ##############################################',) \n",
      "/home/jalfaizy/workspace/upwork/mlmodels/mlmodels/dataset/GOOG-year.csv\n",
      "\n",
      "  ('############# Data, Params preparation   #################',) \n",
      "model_tf.1_lstm {'learning_rate': 0.001, 'num_layers': 1, 'size': None, 'size_layer': 128, 'output_size': None, 'timestep': 4, 'epoch': 2} {'data_path': '/home/jalfaizy/workspace/upwork/mlmodels/mlmodels/dataset/GOOG-year.csv', 'data_type': 'pandas'} {} {'path': '/home/jalfaizy/workspace/upwork/mlmodels/mlmodels/dataset/GOOG-year.csv'}\n",
      "\n",
      "  ('#### Loading dataset   #############################################',) \n",
      "{'data_path': '/home/jalfaizy/workspace/upwork/mlmodels/mlmodels/dataset/GOOG-year.csv', 'data_type': 'pandas'}\n",
      "/home/jalfaizy/workspace/upwork/mlmodels/mlmodels/dataset/GOOG-year.csv\n",
      "         Date        Open        High  ...       Close   Adj Close   Volume\n",
      "0  2016-11-02  778.200012  781.650024  ...  768.700012  768.700012  1872400\n",
      "1  2016-11-03  767.250000  769.950012  ...  762.130005  762.130005  1943200\n",
      "2  2016-11-04  750.659973  770.359985  ...  762.020020  762.020020  2134800\n",
      "3  2016-11-07  774.500000  785.190002  ...  782.520020  782.520020  1585100\n",
      "4  2016-11-08  783.400024  795.632996  ...  790.510010  790.510010  1350800\n",
      "\n",
      "[5 rows x 7 columns]\n",
      "\n",
      "  ('############ Model test Global  ###########################################',) \n",
      "\n",
      "  ('############ Model preparation   ##################################',) \n",
      "<module 'mlmodels.model_tf.1_lstm' from '/home/jalfaizy/workspace/upwork/mlmodels/mlmodels/model_tf/1_lstm.py'> <mlmodels.model_tf.1_lstm.Model object at 0x7fd0677afa20>\n",
      "\n",
      "  ('############ Model fit   ##########################################',) \n",
      "{'data_path': '/home/jalfaizy/workspace/upwork/mlmodels/mlmodels/dataset/GOOG-year.csv', 'data_type': 'pandas'}\n",
      "/home/jalfaizy/workspace/upwork/mlmodels/mlmodels/dataset/GOOG-year.csv\n",
      "         Date        Open        High  ...       Close   Adj Close   Volume\n",
      "0  2016-11-02  778.200012  781.650024  ...  768.700012  768.700012  1872400\n",
      "1  2016-11-03  767.250000  769.950012  ...  762.130005  762.130005  1943200\n",
      "2  2016-11-04  750.659973  770.359985  ...  762.020020  762.020020  2134800\n",
      "3  2016-11-07  774.500000  785.190002  ...  782.520020  782.520020  1585100\n",
      "4  2016-11-08  783.400024  795.632996  ...  790.510010  790.510010  1350800\n",
      "\n",
      "[5 rows x 7 columns]\n",
      "          0         1         2         3         4         5\n",
      "0  0.706562  0.629914  0.682052  0.599302  0.599302  0.153665\n",
      "1  0.458824  0.320251  0.598101  0.478596  0.478596  0.174523\n",
      "2  0.083484  0.331101  0.437246  0.476576  0.476576  0.230969\n",
      "3  0.622851  0.723606  0.854891  0.853206  0.853206  0.069025\n",
      "4  0.824209  1.000000  1.000000  1.000000  1.000000  0.000000\n",
      "/home/jalfaizy/miniconda3/envs/py36/lib/python3.6/site-packages/tensorflow_core/python/client/session.py:1750: UserWarning: An interactive session is already active. This can cause out-of-memory errors in some cases. You must explicitly call `InteractiveSession.close()` to release resources held by the other session(s).\n",
      "  warnings.warn('An interactive session is already active. This can '\n"
     ]
    },
    {
     "name": "stdout",
     "output_type": "stream",
     "text": [
      "fit success <tensorflow.python.client.session.InteractiveSession object at 0x7fd02836e320>\r\n",
      "\r\n",
      "  ('############ Prediction############################################',) \r\n",
      "{'data_path': '/home/jalfaizy/workspace/upwork/mlmodels/mlmodels/dataset/GOOG-year.csv', 'data_type': 'pandas'}\r\n",
      "/home/jalfaizy/workspace/upwork/mlmodels/mlmodels/dataset/GOOG-year.csv\r\n",
      "         Date        Open        High  ...       Close   Adj Close   Volume\r\n",
      "0  2016-11-02  778.200012  781.650024  ...  768.700012  768.700012  1872400\r\n",
      "1  2016-11-03  767.250000  769.950012  ...  762.130005  762.130005  1943200\r\n",
      "2  2016-11-04  750.659973  770.359985  ...  762.020020  762.020020  2134800\r\n",
      "3  2016-11-07  774.500000  785.190002  ...  782.520020  782.520020  1585100\r\n",
      "4  2016-11-08  783.400024  795.632996  ...  790.510010  790.510010  1350800\r\n",
      "\r\n",
      "[5 rows x 7 columns]\r\n",
      "          0         1         2         3         4         5\r\n",
      "0  0.706562  0.629914  0.682052  0.599302  0.599302  0.153665\r\n",
      "1  0.458824  0.320251  0.598101  0.478596  0.478596  0.174523\r\n",
      "2  0.083484  0.331101  0.437246  0.476576  0.476576  0.230969\r\n",
      "3  0.622851  0.723606  0.854891  0.853206  0.853206  0.069025\r\n",
      "4  0.824209  1.000000  1.000000  1.000000  1.000000  0.000000\r\n",
      "5  0.745928  0.883387  0.838176  0.904464  0.904464  0.370110\r\n",
      "6  1.000000  0.881878  0.467996  0.486496  0.486496  1.000000\r\n",
      "7  0.216516  0.077549  0.433808  0.329598  0.329598  0.318466\r\n",
      "8  0.195249  0.000000  0.000000  0.000000  0.000000  0.671960\r\n",
      "9  0.000000  0.173783  0.369041  0.411721  0.411721  0.304384\r\n",
      "[[ 0.          0.          0.          0.          0.          0.        ]\r\n",
      " [ 0.04482004 -0.08064905  0.0551237   0.07264544 -0.06769526 -0.00624618]\r\n",
      " [ 0.02072959 -0.05971846 -0.13518333  0.1317628  -0.04803732  0.08754559]\r\n",
      " [ 0.21699931 -0.01216211  0.08417494  0.08226186 -0.08720054  0.22898315]\r\n",
      " [ 0.17969099  0.00602419  0.40106773  0.08814506 -0.53031492 -0.16646762]\r\n",
      " [ 0.23197848  0.50124174 -0.4380573   0.19366385 -0.02325813  0.67117107]\r\n",
      " [ 0.11428729  0.40970805 -0.04304973  0.56874198 -0.11886056  0.13964731]\r\n",
      " [-0.14925267  0.28452712  0.11095148 -0.08380672  0.05483801  0.4059355 ]\r\n",
      " [ 0.19984911  0.24547395  0.2587353   0.25457326  0.12707537  0.0472049 ]\r\n",
      " [ 0.          0.          0.          0.          0.          0.        ]]\r\n",
      "\r\n",
      "  ('############ Save/ Load ############################################',) \r\n"
     ]
    }
   ],
   "source": [
    "!ml_models  --model_uri model_tf/1_lstm.py  --do test"
   ]
  },
  {
   "cell_type": "code",
   "execution_count": null,
   "metadata": {},
   "outputs": [],
   "source": []
  }
 ],
 "metadata": {
  "kernelspec": {
   "display_name": "Python 3",
   "language": "python",
   "name": "python3"
  },
  "language_info": {
   "codemirror_mode": {
    "name": "ipython",
    "version": 3
   },
   "file_extension": ".py",
   "mimetype": "text/x-python",
   "name": "python",
   "nbconvert_exporter": "python",
   "pygments_lexer": "ipython3",
   "version": "3.6.5"
  }
 },
 "nbformat": 4,
 "nbformat_minor": 2
}
