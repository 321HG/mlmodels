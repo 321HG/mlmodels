{
 "cells": [
  {
   "cell_type": "code",
   "execution_count": 1,
   "metadata": {},
   "outputs": [
    {
     "name": "stdout",
     "output_type": "stream",
     "text": [
      "Deprecaton set to False\n"
     ]
    }
   ],
   "source": [
    "%load_ext autoreload\n",
    "%autoreload 2\n",
    "\n",
    "import mlmodels\n",
    "from mlmodels.models import module_load\n",
    "import json\n",
    "from mlmodels.optim import optim"
   ]
  },
  {
   "cell_type": "code",
   "execution_count": 28,
   "metadata": {},
   "outputs": [
    {
     "name": "stdout",
     "output_type": "stream",
     "text": [
      "\n",
      "  ({'objective': 'regression', 'random_state': 2}, {'mode': 'test', 'path': 'dataset/tabular/titanic_train_preprocessed.csv', 'data_type': 'pandas'}, {'lightgbm_pars': {'feature_name': ['Survived', 'Pclass', 'Sex', 'Age', 'SibSp', 'Parch', 'Fare', 'Embarked_Q', 'Embarked_S', 'Title']}}, {'engine_pars': {'engine': 'optuna', 'ntrials': 1, 'metric_target': 'mae', 'method': 'normal'}, 'num_leaves': {'type': 'int', 'init': 100, 'range': [5, 200]}, 'max_depth': {'type': 'int', 'init': 4, 'range': [0, 6]}}) \n",
      "\n",
      "  (<module 'mlmodels.model_sklearn.model_lightgbm' from 'f:\\\\congviec\\\\forme\\\\mlmodels\\\\mlmodels\\\\model_sklearn\\\\model_lightgbm.py'>,) \n",
      "\n",
      "  ('###### Hyper-optimization through study   ##################################',) \n",
      "\n",
      "  ('check', <module 'mlmodels.model_sklearn.model_lightgbm' from 'f:\\\\congviec\\\\forme\\\\mlmodels\\\\mlmodels\\\\model_sklearn\\\\model_lightgbm.py'>, {'mode': 'test', 'path': 'dataset/tabular/titanic_train_preprocessed.csv', 'data_type': 'pandas'}) \n"
     ]
    },
    {
     "name": "stderr",
     "output_type": "stream",
     "text": [
      "[I 2020-04-02 23:50:51,540] Finished trial#0 resulted in value: 0.04770068780812412. Current best value is 0.04770068780812412 with parameters: {'num_leaves': 84, 'max_depth': 5}.\n"
     ]
    },
    {
     "name": "stdout",
     "output_type": "stream",
     "text": [
      "\n",
      " ################################### ('Optim, finished',) ###################################\n",
      "\n",
      "  ('### Save Stats   ##########################################################',) \n",
      "\n",
      "  ('### Run Model with best   #################################################',) \n",
      "\n",
      "  ('#### Saving     ###########################################################',) \n",
      "{'path': './temp', 'model_type': 'model_sklearn', 'model_uri': 'model_sklearn-model_lightgbm-py'}\n"
     ]
    }
   ],
   "source": [
    "data_path = 'hyper_lightgbm_titanic.json'  \n",
    "\n",
    "pars = json.load(open( data_path , mode='r'))\n",
    "for key, pdict in  pars.items() :\n",
    "  globals()[key] = pdict  \n",
    "\n",
    "hypermodel_pars = test['hypermodel_pars']\n",
    "model_pars      = test['model_pars']\n",
    "data_pars       = test['data_pars']\n",
    "compute_pars    = test['compute_pars']\n",
    "out_pars        = test['out_pars']\n",
    "\n",
    "model_uri    = \"model_sklearn.model_lightgbm.py\"\n",
    "module        =  module_load( model_uri= model_uri)\n",
    "\n",
    "model_pars_update = optim(\n",
    "    model_uri       = model_uri,\n",
    "    hypermodel_pars = hypermodel_pars,\n",
    "    model_pars      = model_pars,\n",
    "    data_pars       = data_pars,\n",
    "    compute_pars    = compute_pars,\n",
    "    out_pars        = out_pars\n",
    ")"
   ]
  },
  {
   "cell_type": "code",
   "execution_count": 29,
   "metadata": {},
   "outputs": [],
   "source": [
    "model = module.Model(model_pars, data_pars, compute_pars)\n",
    "model, session = module.fit(model, data_pars, compute_pars, out_pars)"
   ]
  },
  {
   "cell_type": "code",
   "execution_count": 30,
   "metadata": {},
   "outputs": [
    {
     "name": "stdout",
     "output_type": "stream",
     "text": [
      "[[ 1.34728643e+00 -3.64538050e-01  8.07509886e-02 -4.59717681e-01\n",
      "  -8.89487596e-01  1.70548352e+00  9.49961101e-02  2.40505552e-01\n",
      "  -9.99426501e-01 -7.67803746e-01]\n",
      " [ 9.36211246e-01  2.04377395e-01 -1.49419377e+00  6.12232523e-01\n",
      "  -9.84377246e-01  7.44884536e-01  4.94341651e-01 -3.62812886e-02\n",
      "  -8.32395348e-01 -4.46699203e-01]\n",
      " [ 8.88389445e-01  2.82995534e-01  1.79558917e-02  1.08030817e-01\n",
      "  -8.49671873e-01  2.94176190e-02 -5.03973949e-01 -1.34793129e-01\n",
      "   1.04921829e+00 -1.27046078e+00]\n",
      " [ 9.47814113e-01 -1.13379204e+00  6.40985866e-01 -1.90548298e-01\n",
      "  -1.23912256e+00  2.33339126e-01 -3.16901197e-01  4.34998324e-01\n",
      "   9.10423603e-01  1.21987438e+00]\n",
      " [ 1.16777676e+00 -6.65754518e-01 -1.23312074e+00 -1.67419581e+00\n",
      "   1.01313574e+00  8.25029824e-01 -1.20464572e-01 -4.98213564e-01\n",
      "  -3.10984978e-01 -1.18231813e+00]\n",
      " [ 1.07258847e+00 -5.86523939e-01 -1.34267579e+00 -1.23685338e+00\n",
      "   1.24328724e+00  8.75838928e-01 -3.26499498e-01  6.23362177e-01\n",
      "  -4.34956683e-01  1.11438298e+00]\n",
      " [ 1.24549398e+00 -7.22391905e-01  1.11813340e+00  1.09899633e+00\n",
      "   1.00277655e+00 -9.01634490e-01 -5.32234021e-01 -8.22467189e-01\n",
      "   7.21711292e-01  6.74396105e-01]\n",
      " [ 1.12062155e+00 -7.02920403e-01 -1.22957425e+00  7.25550518e-01\n",
      "  -1.18013412e+00 -3.24204219e-01  1.10223673e+00  8.14343129e-01\n",
      "   7.80469930e-01  1.10861676e+00]\n",
      " [ 8.76994650e-01  1.23225307e+00 -8.67787223e-01 -2.54179868e-01\n",
      "   8.91891405e-01  1.39984394e+00 -8.77281519e-01 -7.81911683e-01\n",
      "  -4.37508983e-01 -1.44087602e+00]\n",
      " [ 5.69983848e-01 -5.33020326e-01 -1.75458969e-01 -1.42655542e+00\n",
      "   6.06604307e-01  1.76795995e+00 -1.15985185e-01 -4.75372875e-01\n",
      "   4.77610182e-01 -9.33914656e-01]\n",
      " [ 1.13545112e+00  8.61623101e-01  4.90616924e-02 -2.08639057e+00\n",
      "  -1.11469020e+00  3.61801641e-01 -8.06178212e-01  4.25920177e-01\n",
      "   4.90803971e-02 -5.96086335e-01]\n",
      " [ 1.17867274e+00 -5.99804531e-01 -6.94693595e-01  1.12341216e+00\n",
      "   1.17899425e+00  3.05267040e-01  1.33526763e-02  1.38877940e+00\n",
      "  -6.61344243e-01  6.21803504e-01]\n",
      " [ 1.83829400e+00  5.02740882e-01  1.29101580e-01  1.55880554e+00\n",
      "   1.32551412e+00  1.09402696e-01  1.40754000e+00 -1.21974440e+00\n",
      "   2.44936865e+00  1.61694960e+00]\n",
      " [ 9.83799588e-01 -4.07240024e-01  9.32721414e-01  1.60564992e-01\n",
      "  -1.27861800e+00 -1.20149976e-01  1.99759555e-01  3.85602292e-01\n",
      "   7.18290736e-01 -5.30119800e-01]\n",
      " [ 9.29250600e-01 -1.10657307e+00 -1.95816909e+00 -3.59224096e-01\n",
      "  -1.21258781e+00  5.05381903e-01  5.42645295e-01  1.21794090e+00\n",
      "  -1.94068096e+00  6.77807571e-01]\n",
      " [ 1.18947778e+00 -6.80678141e-01 -5.68244809e-02 -8.45080274e-02\n",
      "   8.21783210e-01 -2.97361883e-01 -1.86578994e-01  4.17302005e-01\n",
      "   7.84770651e-01  4.92336556e-01]\n",
      " [ 6.13636707e-01  3.16658895e-01  1.34710546e+00 -1.89526695e+00\n",
      "  -7.60458095e-01  8.97291174e-02 -3.29051549e-01  4.10265745e-01\n",
      "   8.59870972e-01 -1.04906775e+00]\n",
      " [ 1.98519313e+00  6.74711526e-01 -1.39662042e+00  6.18539131e-01\n",
      "   1.22382712e+00 -4.43171931e-01 -1.89148284e-03  1.81053491e+00\n",
      "  -1.30572692e+00 -8.61316361e-01]\n",
      " [ 8.53355545e-01 -7.04350332e-01 -6.79383783e-01 -4.58666861e-02\n",
      "  -1.29936179e+00 -2.18733459e-01  5.90039464e-01  1.53920701e+00\n",
      "  -1.14870423e+00 -9.50909251e-01]\n",
      " [ 8.95623122e-01 -2.29820588e+00 -1.95225583e-02  1.45652739e+00\n",
      "  -1.85064099e+00  3.16637236e-01  1.11337266e-01 -2.66412594e+00\n",
      "  -4.26428618e-01 -8.39988915e-01]\n",
      " [ 1.01195228e+00 -1.88141087e+00  1.70018815e+00  4.97269099e-01\n",
      "  -9.17664624e-01  2.37332699e-01 -1.09033833e+00 -2.14444405e+00\n",
      "  -3.69562425e-01  6.08783659e-01]\n",
      " [ 8.71225789e-01 -2.09752935e-01 -4.56987858e-01  9.35147780e-01\n",
      "  -8.73535822e-01  1.81252782e+00  9.25501215e-01  1.40109881e-01\n",
      "  -1.41914878e+00  1.06898597e+00]\n",
      " [ 6.92114488e-01 -6.06524918e-02  2.05635552e+00 -2.41350300e+00\n",
      "   1.17456965e+00 -1.77756638e+00 -2.81736269e-01 -7.77858827e-01\n",
      "   1.11584111e+00  1.76024923e+00]\n",
      " [ 8.61462558e-01  7.43205537e-02 -1.34501002e+00 -1.99560718e-01\n",
      "  -1.47533915e+00 -6.54603169e-01 -3.14563862e-01  3.18014296e-01\n",
      "  -8.90271552e-01 -1.29525789e+00]\n",
      " [ 8.48069266e-01  4.51946037e-01  6.30195671e-01 -1.57915629e+00\n",
      "   8.27987371e-01 -8.28627979e-01 -1.05344713e-01  5.28879746e-01\n",
      "  -2.23708651e+00 -4.14846901e-01]]\n"
     ]
    }
   ],
   "source": [
    "ypred       = module.predict(model,  data_pars=data_pars, compute_pars=compute_pars, out_pars=out_pars)     # predict pipeline\n",
    "ypred"
   ]
  },
  {
   "cell_type": "code",
   "execution_count": 31,
   "metadata": {},
   "outputs": [
    {
     "data": {
      "text/plain": [
       "{'mae': 0.016808660550664024}"
      ]
     },
     "execution_count": 31,
     "metadata": {},
     "output_type": "execute_result"
    }
   ],
   "source": [
    "metrics_val = module.fit_metrics(model, data_pars, compute_pars, out_pars)\n",
    "metrics_val"
   ]
  },
  {
   "cell_type": "code",
   "execution_count": null,
   "metadata": {},
   "outputs": [],
   "source": []
  }
 ],
 "metadata": {
  "kernelspec": {
   "display_name": "mlmodels",
   "language": "python",
   "name": "mlmodels"
  },
  "language_info": {
   "codemirror_mode": {
    "name": "ipython",
    "version": 3
   },
   "file_extension": ".py",
   "mimetype": "text/x-python",
   "name": "python",
   "nbconvert_exporter": "python",
   "pygments_lexer": "ipython3",
   "version": "3.7.4"
  }
 },
 "nbformat": 4,
 "nbformat_minor": 4
}
