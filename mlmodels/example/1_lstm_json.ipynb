{
 "cells": [
  {
   "cell_type": "code",
   "execution_count": 1,
   "metadata": {},
   "outputs": [],
   "source": [
    "# import library\n",
    "import mlmodels"
   ]
  },
  {
   "cell_type": "markdown",
   "metadata": {},
   "source": [
    "## Load model and data definitions from json"
   ]
  },
  {
   "cell_type": "code",
   "execution_count": 2,
   "metadata": {},
   "outputs": [],
   "source": [
    "from mlmodels.models import module_load\n",
    "from mlmodels.util import load_config\n",
    "\n",
    "model_uri    = \"model_tf.1_lstm.py\"\n",
    "module        =  module_load( model_uri= model_uri )                           # Load file definition\n",
    "\n",
    "model_pars, data_pars, compute_pars, out_pars = module.get_params(param_pars={\n",
    "    'choice':'json',\n",
    "    'config_mode':'test',\n",
    "    'data_path':'../mlmodels/dataset/json/1_lstm.json'\n",
    "})"
   ]
  },
  {
   "cell_type": "markdown",
   "metadata": {},
   "source": [
    "## Load parameters and train"
   ]
  },
  {
   "cell_type": "code",
   "execution_count": 3,
   "metadata": {},
   "outputs": [
    {
     "name": "stdout",
     "output_type": "stream",
     "text": [
      "{'data_path': '../mlmodels/dataset/timeseries/GOOG-year.csv', 'data_type': 'pandas', 'size': [0, 0, 6], 'output_size': [0, 6]}\n",
      "../mlmodels/dataset/timeseries/GOOG-year.csv\n",
      "         Date        Open        High         Low       Close   Adj Close  \\\n",
      "0  2016-11-02  778.200012  781.650024  763.450012  768.700012  768.700012   \n",
      "1  2016-11-03  767.250000  769.950012  759.030029  762.130005  762.130005   \n",
      "2  2016-11-04  750.659973  770.359985  750.560974  762.020020  762.020020   \n",
      "3  2016-11-07  774.500000  785.190002  772.549988  782.520020  782.520020   \n",
      "4  2016-11-08  783.400024  795.632996  780.190002  790.510010  790.510010   \n",
      "\n",
      "    Volume  \n",
      "0  1872400  \n",
      "1  1943200  \n",
      "2  2134800  \n",
      "3  1585100  \n",
      "4  1350800  \n",
      "          0         1         2         3         4         5\n",
      "0  0.706562  0.629914  0.682052  0.599302  0.599302  0.153665\n",
      "1  0.458824  0.320251  0.598101  0.478596  0.478596  0.174523\n",
      "2  0.083484  0.331101  0.437246  0.476576  0.476576  0.230969\n",
      "3  0.622851  0.723606  0.854891  0.853206  0.853206  0.069025\n",
      "4  0.824209  1.000000  1.000000  1.000000  1.000000  0.000000\n"
     ]
    }
   ],
   "source": [
    "model         =  module.Model(model_pars=model_pars, data_pars=data_pars, compute_pars=compute_pars)             # Create Model instance\n",
    "model, sess   =  module.fit(model, data_pars=data_pars, compute_pars=compute_pars, out_pars=out_pars)          # fit the model"
   ]
  },
  {
   "cell_type": "markdown",
   "metadata": {},
   "source": [
    "## Check inference"
   ]
  },
  {
   "cell_type": "code",
   "execution_count": 4,
   "metadata": {},
   "outputs": [
    {
     "name": "stdout",
     "output_type": "stream",
     "text": [
      "{'data_path': '../mlmodels/dataset/timeseries/GOOG-year.csv', 'data_type': 'pandas', 'size': [0, 0, 6], 'output_size': [0, 6]}\n",
      "../mlmodels/dataset/timeseries/GOOG-year.csv\n",
      "         Date        Open        High         Low       Close   Adj Close  \\\n",
      "0  2016-11-02  778.200012  781.650024  763.450012  768.700012  768.700012   \n",
      "1  2016-11-03  767.250000  769.950012  759.030029  762.130005  762.130005   \n",
      "2  2016-11-04  750.659973  770.359985  750.560974  762.020020  762.020020   \n",
      "3  2016-11-07  774.500000  785.190002  772.549988  782.520020  782.520020   \n",
      "4  2016-11-08  783.400024  795.632996  780.190002  790.510010  790.510010   \n",
      "\n",
      "    Volume  \n",
      "0  1872400  \n",
      "1  1943200  \n",
      "2  2134800  \n",
      "3  1585100  \n",
      "4  1350800  \n",
      "          0         1         2         3         4         5\n",
      "0  0.706562  0.629914  0.682052  0.599302  0.599302  0.153665\n",
      "1  0.458824  0.320251  0.598101  0.478596  0.478596  0.174523\n",
      "2  0.083484  0.331101  0.437246  0.476576  0.476576  0.230969\n",
      "3  0.622851  0.723606  0.854891  0.853206  0.853206  0.069025\n",
      "4  0.824209  1.000000  1.000000  1.000000  1.000000  0.000000\n",
      "5  0.745928  0.883387  0.838176  0.904464  0.904464  0.370110\n",
      "6  1.000000  0.881878  0.467996  0.486496  0.486496  1.000000\n",
      "7  0.216516  0.077549  0.433808  0.329598  0.329598  0.318466\n",
      "8  0.195249  0.000000  0.000000  0.000000  0.000000  0.671960\n",
      "9  0.000000  0.173783  0.369041  0.411721  0.411721  0.304384\n"
     ]
    }
   ],
   "source": [
    "ypred       = module.predict(model, sess=sess,  data_pars=data_pars, compute_pars=compute_pars, out_pars=out_pars)     # predict pipeline\n"
   ]
  },
  {
   "cell_type": "code",
   "execution_count": null,
   "metadata": {},
   "outputs": [],
   "source": []
  }
 ],
 "metadata": {
  "kernelspec": {
   "display_name": "Python 3",
   "language": "python",
   "name": "python3"
  },
  "language_info": {
   "codemirror_mode": {
    "name": "ipython",
    "version": 3
   },
   "file_extension": ".py",
   "mimetype": "text/x-python",
   "name": "python",
   "nbconvert_exporter": "python",
   "pygments_lexer": "ipython3",
   "version": "3.6.5"
  }
 },
 "nbformat": 4,
 "nbformat_minor": 4
}
