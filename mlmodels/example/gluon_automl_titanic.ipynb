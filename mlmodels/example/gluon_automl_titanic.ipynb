{
 "cells": [
  {
   "cell_type": "code",
   "execution_count": 1,
   "metadata": {},
   "outputs": [],
   "source": [
    "%load_ext autoreload\n",
    "%autoreload 2\n",
    "# import library\n",
    "import mlmodels"
   ]
  },
  {
   "cell_type": "markdown",
   "metadata": {},
   "source": [
    "## Load model and data definitions from json"
   ]
  },
  {
   "cell_type": "code",
   "execution_count": 2,
   "metadata": {},
   "outputs": [
    {
     "name": "stdout",
     "output_type": "stream",
     "text": [
      "\n",
      "  ('#### Model params   ################################################',) \n"
     ]
    },
    {
     "name": "stderr",
     "output_type": "stream",
     "text": [
      "/home/jalfaizy/miniconda3/envs/py36/lib/python3.6/site-packages/mxnet/optimizer/optimizer.py:167: UserWarning: WARNING: New optimizer gluonnlp.optimizer.lamb.LAMB is overriding existing optimizer mxnet.optimizer.optimizer.LAMB\n",
      "  Optimizer.opt_registry[name].__name__))\n"
     ]
    }
   ],
   "source": [
    "from mlmodels.models import module_load\n",
    "from mlmodels.util import load_config\n",
    "\n",
    "model_uri    = \"model_gluon.gluon_automl.py\"\n",
    "module        =  module_load( model_uri= model_uri )                           # Load file definition\n",
    "\n",
    "model_pars, data_pars, compute_pars, out_pars = module.get_params(\n",
    "    choice='json',\n",
    "    config_mode= 'test',\n",
    "    data_path= '../mlmodels/dataset/json/gluon_automl.json'\n",
    ")"
   ]
  },
  {
   "cell_type": "markdown",
   "metadata": {},
   "source": [
    "## Load parameters and train"
   ]
  },
  {
   "cell_type": "code",
   "execution_count": 3,
   "metadata": {},
   "outputs": [
    {
     "name": "stderr",
     "output_type": "stream",
     "text": [
      "Warning: `hyperparameter_tune=True` is currently experimental and may cause the process to hang. Setting `auto_stack=True` instead is recommended to achieve maximum quality models.\n",
      "Beginning AutoGluon training ... Time limit = 120s\n",
      "AutoGluon will save models to dataset/\n",
      "Train Data Rows:    891\n",
      "Train Data Columns: 11\n",
      "Preprocessing data ...\n",
      "Here are the first 10 unique label values in your data:  [False  True]\n",
      "AutoGluon infers your prediction problem is: binary  (because only two unique label-values observed)\n",
      "If this is wrong, please specify `problem_type` argument in fit() instead (You may specify problem_type as one of: ['binary', 'multiclass', 'regression'])\n",
      "\n",
      "Selected class <--> label mapping:  class 1 = True, class 0 = False\n",
      "Feature Generator processed 891 data points with 10 features\n",
      "Original Features:\n",
      "\tint features: 9\n",
      "\tfloat features: 1\n",
      "Generated Features:\n",
      "\tint features: 0\n",
      "All Features:\n",
      "\tint features: 9\n",
      "\tfloat features: 1\n",
      "\tData preprocessing and feature engineering runtime = 0.04s ...\n",
      "AutoGluon will gauge predictive performance using evaluation metric: accuracy\n",
      "To change this, specify the eval_metric argument of fit()\n",
      "AutoGluon will early stop models using evaluation metric: accuracy\n",
      "Starting Experiments\n",
      "Num of Finished Tasks is 0\n",
      "Num of Pending Tasks is 5\n"
     ]
    },
    {
     "data": {
      "application/vnd.jupyter.widget-view+json": {
       "model_id": "1001a15fcd6e4d008fb42ad9bdbb8aae",
       "version_major": 2,
       "version_minor": 0
      },
      "text/plain": [
       "HBox(children=(FloatProgress(value=0.0, max=5.0), HTML(value='')))"
      ]
     },
     "metadata": {},
     "output_type": "display_data"
    },
    {
     "name": "stderr",
     "output_type": "stream",
     "text": [
      "Finished Task with config: {'feature_fraction': 1.0, 'learning_rate': 0.1, 'min_data_in_leaf': 20, 'num_leaves': 36} and reward: 0.8435754189944135\n",
      "Finished Task with config: b'\\x80\\x03}q\\x00(X\\x10\\x00\\x00\\x00feature_fractionq\\x01G?\\xf0\\x00\\x00\\x00\\x00\\x00\\x00X\\r\\x00\\x00\\x00learning_rateq\\x02G?\\xb9\\x99\\x99\\x99\\x99\\x99\\x9aX\\x10\\x00\\x00\\x00min_data_in_leafq\\x03K\\x14X\\n\\x00\\x00\\x00num_leavesq\\x04K$u.' and reward: 0.8435754189944135\n",
      "Finished Task with config: b'\\x80\\x03}q\\x00(X\\x10\\x00\\x00\\x00feature_fractionq\\x01G?\\xf0\\x00\\x00\\x00\\x00\\x00\\x00X\\r\\x00\\x00\\x00learning_rateq\\x02G?\\xb9\\x99\\x99\\x99\\x99\\x99\\x9aX\\x10\\x00\\x00\\x00min_data_in_leafq\\x03K\\x14X\\n\\x00\\x00\\x00num_leavesq\\x04K$u.' and reward: 0.8435754189944135\n",
      "Finished Task with config: {'feature_fraction': 0.9782504666710079, 'learning_rate': 0.06944612289727083, 'min_data_in_leaf': 28, 'num_leaves': 35} and reward: 0.8379888268156425\n",
      "Finished Task with config: b'\\x80\\x03}q\\x00(X\\x10\\x00\\x00\\x00feature_fractionq\\x01G?\\xefM\\xd3\\xec4\\xc2JX\\r\\x00\\x00\\x00learning_rateq\\x02G?\\xb1\\xc78\\x9a\\xad\\x82\\xa9X\\x10\\x00\\x00\\x00min_data_in_leafq\\x03K\\x1cX\\n\\x00\\x00\\x00num_leavesq\\x04K#u.' and reward: 0.8379888268156425\n",
      "Finished Task with config: b'\\x80\\x03}q\\x00(X\\x10\\x00\\x00\\x00feature_fractionq\\x01G?\\xefM\\xd3\\xec4\\xc2JX\\r\\x00\\x00\\x00learning_rateq\\x02G?\\xb1\\xc78\\x9a\\xad\\x82\\xa9X\\x10\\x00\\x00\\x00min_data_in_leafq\\x03K\\x1cX\\n\\x00\\x00\\x00num_leavesq\\x04K#u.' and reward: 0.8379888268156425\n",
      "Finished Task with config: {'feature_fraction': 0.9019188775675204, 'learning_rate': 0.00620135676216576, 'min_data_in_leaf': 15, 'num_leaves': 39} and reward: 0.7932960893854749\n",
      "Finished Task with config: b\"\\x80\\x03}q\\x00(X\\x10\\x00\\x00\\x00feature_fractionq\\x01G?\\xec\\xdc\\x84\\xfaY\\x85ZX\\r\\x00\\x00\\x00learning_rateq\\x02G?yf\\x98\\x07\\xbf\\xd19X\\x10\\x00\\x00\\x00min_data_in_leafq\\x03K\\x0fX\\n\\x00\\x00\\x00num_leavesq\\x04K'u.\" and reward: 0.7932960893854749\n",
      "Finished Task with config: b\"\\x80\\x03}q\\x00(X\\x10\\x00\\x00\\x00feature_fractionq\\x01G?\\xec\\xdc\\x84\\xfaY\\x85ZX\\r\\x00\\x00\\x00learning_rateq\\x02G?yf\\x98\\x07\\xbf\\xd19X\\x10\\x00\\x00\\x00min_data_in_leafq\\x03K\\x0fX\\n\\x00\\x00\\x00num_leavesq\\x04K'u.\" and reward: 0.7932960893854749\n",
      "Finished Task with config: {'feature_fraction': 0.9379909367560489, 'learning_rate': 0.032938822680469736, 'min_data_in_leaf': 25, 'num_leaves': 51} and reward: 0.8379888268156425\n",
      "Finished Task with config: b'\\x80\\x03}q\\x00(X\\x10\\x00\\x00\\x00feature_fractionq\\x01G?\\xee\\x04\\x05\\x91\\xa9\\xf8\\xe9X\\r\\x00\\x00\\x00learning_rateq\\x02G?\\xa0\\xdd[|\\\\\\xdbKX\\x10\\x00\\x00\\x00min_data_in_leafq\\x03K\\x19X\\n\\x00\\x00\\x00num_leavesq\\x04K3u.' and reward: 0.8379888268156425\n",
      "Finished Task with config: b'\\x80\\x03}q\\x00(X\\x10\\x00\\x00\\x00feature_fractionq\\x01G?\\xee\\x04\\x05\\x91\\xa9\\xf8\\xe9X\\r\\x00\\x00\\x00learning_rateq\\x02G?\\xa0\\xdd[|\\\\\\xdbKX\\x10\\x00\\x00\\x00min_data_in_leafq\\x03K\\x19X\\n\\x00\\x00\\x00num_leavesq\\x04K3u.' and reward: 0.8379888268156425\n"
     ]
    },
    {
     "name": "stdout",
     "output_type": "stream",
     "text": [
      "\n"
     ]
    },
    {
     "name": "stderr",
     "output_type": "stream",
     "text": [
      "Finished Task with config: {'feature_fraction': 0.9924665540625094, 'learning_rate': 0.065397574400762, 'min_data_in_leaf': 26, 'num_leaves': 51} and reward: 0.8547486033519553\n",
      "Finished Task with config: b'\\x80\\x03}q\\x00(X\\x10\\x00\\x00\\x00feature_fractionq\\x01G?\\xef\\xc2I8\\x02P;X\\r\\x00\\x00\\x00learning_rateq\\x02G?\\xb0\\xbd\\xe5;I\\xfb\\xe1X\\x10\\x00\\x00\\x00min_data_in_leafq\\x03K\\x1aX\\n\\x00\\x00\\x00num_leavesq\\x04K3u.' and reward: 0.8547486033519553\n",
      "Finished Task with config: b'\\x80\\x03}q\\x00(X\\x10\\x00\\x00\\x00feature_fractionq\\x01G?\\xef\\xc2I8\\x02P;X\\r\\x00\\x00\\x00learning_rateq\\x02G?\\xb0\\xbd\\xe5;I\\xfb\\xe1X\\x10\\x00\\x00\\x00min_data_in_leafq\\x03K\\x1aX\\n\\x00\\x00\\x00num_leavesq\\x04K3u.' and reward: 0.8547486033519553\n",
      "Starting Experiments\n",
      "Num of Finished Tasks is 0\n",
      "Num of Pending Tasks is 5\n"
     ]
    },
    {
     "data": {
      "application/vnd.jupyter.widget-view+json": {
       "model_id": "b791bbd3ece34586845b59c89eaa8d75",
       "version_major": 2,
       "version_minor": 0
      },
      "text/plain": [
       "HBox(children=(FloatProgress(value=0.0, max=5.0), HTML(value='')))"
      ]
     },
     "metadata": {},
     "output_type": "display_data"
    },
    {
     "name": "stderr",
     "output_type": "stream",
     "text": [
      "Finished Task with config: {'activation.choice': 0, 'dropout_prob': 0.1, 'embedding_size_factor': 1.0, 'layers.choice': 0, 'learning_rate': 0.0005, 'network_type.choice': 0, 'use_batchnorm.choice': 0, 'weight_decay': 1e-06} and reward: 0.6983240223463687\n",
      "Finished Task with config: b'\\x80\\x03}q\\x00(X\\x11\\x00\\x00\\x00activation.choiceq\\x01K\\x00X\\x0c\\x00\\x00\\x00dropout_probq\\x02G?\\xb9\\x99\\x99\\x99\\x99\\x99\\x9aX\\x15\\x00\\x00\\x00embedding_size_factorq\\x03G?\\xf0\\x00\\x00\\x00\\x00\\x00\\x00X\\r\\x00\\x00\\x00layers.choiceq\\x04K\\x00X\\r\\x00\\x00\\x00learning_rateq\\x05G?@bM\\xd2\\xf1\\xa9\\xfcX\\x13\\x00\\x00\\x00network_type.choiceq\\x06K\\x00X\\x14\\x00\\x00\\x00use_batchnorm.choiceq\\x07K\\x00X\\x0c\\x00\\x00\\x00weight_decayq\\x08G>\\xb0\\xc6\\xf7\\xa0\\xb5\\xed\\x8du.' and reward: 0.6983240223463687\n",
      "Finished Task with config: b'\\x80\\x03}q\\x00(X\\x11\\x00\\x00\\x00activation.choiceq\\x01K\\x00X\\x0c\\x00\\x00\\x00dropout_probq\\x02G?\\xb9\\x99\\x99\\x99\\x99\\x99\\x9aX\\x15\\x00\\x00\\x00embedding_size_factorq\\x03G?\\xf0\\x00\\x00\\x00\\x00\\x00\\x00X\\r\\x00\\x00\\x00layers.choiceq\\x04K\\x00X\\r\\x00\\x00\\x00learning_rateq\\x05G?@bM\\xd2\\xf1\\xa9\\xfcX\\x13\\x00\\x00\\x00network_type.choiceq\\x06K\\x00X\\x14\\x00\\x00\\x00use_batchnorm.choiceq\\x07K\\x00X\\x0c\\x00\\x00\\x00weight_decayq\\x08G>\\xb0\\xc6\\xf7\\xa0\\xb5\\xed\\x8du.' and reward: 0.6983240223463687\n",
      "Finished Task with config: {'activation.choice': 0, 'dropout_prob': 0.22026514235742994, 'embedding_size_factor': 0.7486781766762014, 'layers.choice': 0, 'learning_rate': 0.0010102333411592687, 'network_type.choice': 1, 'use_batchnorm.choice': 1, 'weight_decay': 3.941681329358144e-08} and reward: 0.6201117318435754\n",
      "Finished Task with config: b'\\x80\\x03}q\\x00(X\\x11\\x00\\x00\\x00activation.choiceq\\x01K\\x00X\\x0c\\x00\\x00\\x00dropout_probq\\x02G?\\xcc1\\xa5\\xefo\\xddvX\\x15\\x00\\x00\\x00embedding_size_factorq\\x03G?\\xe7\\xf5+\\xef\\x81\\xb3\\xc6X\\r\\x00\\x00\\x00layers.choiceq\\x04K\\x00X\\r\\x00\\x00\\x00learning_rateq\\x05G?P\\x8d9\\xcaW\\xc8\\x89X\\x13\\x00\\x00\\x00network_type.choiceq\\x06K\\x01X\\x14\\x00\\x00\\x00use_batchnorm.choiceq\\x07K\\x01X\\x0c\\x00\\x00\\x00weight_decayq\\x08G>e)g\\xd3R|uu.' and reward: 0.6201117318435754\n",
      "Finished Task with config: b'\\x80\\x03}q\\x00(X\\x11\\x00\\x00\\x00activation.choiceq\\x01K\\x00X\\x0c\\x00\\x00\\x00dropout_probq\\x02G?\\xcc1\\xa5\\xefo\\xddvX\\x15\\x00\\x00\\x00embedding_size_factorq\\x03G?\\xe7\\xf5+\\xef\\x81\\xb3\\xc6X\\r\\x00\\x00\\x00layers.choiceq\\x04K\\x00X\\r\\x00\\x00\\x00learning_rateq\\x05G?P\\x8d9\\xcaW\\xc8\\x89X\\x13\\x00\\x00\\x00network_type.choiceq\\x06K\\x01X\\x14\\x00\\x00\\x00use_batchnorm.choiceq\\x07K\\x01X\\x0c\\x00\\x00\\x00weight_decayq\\x08G>e)g\\xd3R|uu.' and reward: 0.6201117318435754\n",
      "Finished Task with config: {'activation.choice': 2, 'dropout_prob': 0.16607895302583411, 'embedding_size_factor': 1.3823912412439072, 'layers.choice': 3, 'learning_rate': 0.00938382772833461, 'network_type.choice': 0, 'use_batchnorm.choice': 1, 'weight_decay': 0.07728887406858426} and reward: 0.7932960893854749\n",
      "Finished Task with config: b'\\x80\\x03}q\\x00(X\\x11\\x00\\x00\\x00activation.choiceq\\x01K\\x02X\\x0c\\x00\\x00\\x00dropout_probq\\x02G?\\xc5B\\x13;\\xe6beX\\x15\\x00\\x00\\x00embedding_size_factorq\\x03G?\\xf6\\x1eFG6\\xb5\\xfaX\\r\\x00\\x00\\x00layers.choiceq\\x04K\\x03X\\r\\x00\\x00\\x00learning_rateq\\x05G?\\x837\\xd4\\t\\xa2\\xceWX\\x13\\x00\\x00\\x00network_type.choiceq\\x06K\\x00X\\x14\\x00\\x00\\x00use_batchnorm.choiceq\\x07K\\x01X\\x0c\\x00\\x00\\x00weight_decayq\\x08G?\\xb3\\xc94\"x\\x1f\\x94u.' and reward: 0.7932960893854749\n",
      "Finished Task with config: b'\\x80\\x03}q\\x00(X\\x11\\x00\\x00\\x00activation.choiceq\\x01K\\x02X\\x0c\\x00\\x00\\x00dropout_probq\\x02G?\\xc5B\\x13;\\xe6beX\\x15\\x00\\x00\\x00embedding_size_factorq\\x03G?\\xf6\\x1eFG6\\xb5\\xfaX\\r\\x00\\x00\\x00layers.choiceq\\x04K\\x03X\\r\\x00\\x00\\x00learning_rateq\\x05G?\\x837\\xd4\\t\\xa2\\xceWX\\x13\\x00\\x00\\x00network_type.choiceq\\x06K\\x00X\\x14\\x00\\x00\\x00use_batchnorm.choiceq\\x07K\\x01X\\x0c\\x00\\x00\\x00weight_decayq\\x08G?\\xb3\\xc94\"x\\x1f\\x94u.' and reward: 0.7932960893854749\n",
      "Finished Task with config: {'activation.choice': 2, 'dropout_prob': 0.20699244384779925, 'embedding_size_factor': 1.0920074423024773, 'layers.choice': 0, 'learning_rate': 0.0005114715371183665, 'network_type.choice': 1, 'use_batchnorm.choice': 1, 'weight_decay': 1.344703341823796e-12} and reward: 0.7039106145251397\n",
      "Finished Task with config: b'\\x80\\x03}q\\x00(X\\x11\\x00\\x00\\x00activation.choiceq\\x01K\\x02X\\x0c\\x00\\x00\\x00dropout_probq\\x02G?\\xca~\\xbaxl6\\x88X\\x15\\x00\\x00\\x00embedding_size_factorq\\x03G?\\xf1x\\xdc\\xcb\\xba\\xd8\\rX\\r\\x00\\x00\\x00layers.choiceq\\x04K\\x00X\\r\\x00\\x00\\x00learning_rateq\\x05G?@\\xc2\\x88\\xc3+G\\x1fX\\x13\\x00\\x00\\x00network_type.choiceq\\x06K\\x01X\\x14\\x00\\x00\\x00use_batchnorm.choiceq\\x07K\\x01X\\x0c\\x00\\x00\\x00weight_decayq\\x08G=w\\xa8\\x01fmM\\xd1u.' and reward: 0.7039106145251397\n",
      "Finished Task with config: b'\\x80\\x03}q\\x00(X\\x11\\x00\\x00\\x00activation.choiceq\\x01K\\x02X\\x0c\\x00\\x00\\x00dropout_probq\\x02G?\\xca~\\xbaxl6\\x88X\\x15\\x00\\x00\\x00embedding_size_factorq\\x03G?\\xf1x\\xdc\\xcb\\xba\\xd8\\rX\\r\\x00\\x00\\x00layers.choiceq\\x04K\\x00X\\r\\x00\\x00\\x00learning_rateq\\x05G?@\\xc2\\x88\\xc3+G\\x1fX\\x13\\x00\\x00\\x00network_type.choiceq\\x06K\\x01X\\x14\\x00\\x00\\x00use_batchnorm.choiceq\\x07K\\x01X\\x0c\\x00\\x00\\x00weight_decayq\\x08G=w\\xa8\\x01fmM\\xd1u.' and reward: 0.7039106145251397\n"
     ]
    },
    {
     "name": "stdout",
     "output_type": "stream",
     "text": [
      "\n"
     ]
    },
    {
     "name": "stderr",
     "output_type": "stream",
     "text": [
      "Finished Task with config: {'activation.choice': 2, 'dropout_prob': 0.22665664513458889, 'embedding_size_factor': 0.8028419758905914, 'layers.choice': 2, 'learning_rate': 0.0012266573721984482, 'network_type.choice': 1, 'use_batchnorm.choice': 1, 'weight_decay': 8.341683674526953e-08} and reward: 0.770949720670391\n",
      "Finished Task with config: b'\\x80\\x03}q\\x00(X\\x11\\x00\\x00\\x00activation.choiceq\\x01K\\x02X\\x0c\\x00\\x00\\x00dropout_probq\\x02G?\\xcd\\x03\\x15\\xbf#\\x16\\xeaX\\x15\\x00\\x00\\x00embedding_size_factorq\\x03G?\\xe9\\xb0\\xe1\\xa7\\xc9\\xcb\\xa8X\\r\\x00\\x00\\x00layers.choiceq\\x04K\\x02X\\r\\x00\\x00\\x00learning_rateq\\x05G?T\\x18\\xf9S\\x01\\xe0\\xd0X\\x13\\x00\\x00\\x00network_type.choiceq\\x06K\\x01X\\x14\\x00\\x00\\x00use_batchnorm.choiceq\\x07K\\x01X\\x0c\\x00\\x00\\x00weight_decayq\\x08G>vd\\\\\\x82\\xe1\\xe6^u.' and reward: 0.770949720670391\n",
      "Finished Task with config: b'\\x80\\x03}q\\x00(X\\x11\\x00\\x00\\x00activation.choiceq\\x01K\\x02X\\x0c\\x00\\x00\\x00dropout_probq\\x02G?\\xcd\\x03\\x15\\xbf#\\x16\\xeaX\\x15\\x00\\x00\\x00embedding_size_factorq\\x03G?\\xe9\\xb0\\xe1\\xa7\\xc9\\xcb\\xa8X\\r\\x00\\x00\\x00layers.choiceq\\x04K\\x02X\\r\\x00\\x00\\x00learning_rateq\\x05G?T\\x18\\xf9S\\x01\\xe0\\xd0X\\x13\\x00\\x00\\x00network_type.choiceq\\x06K\\x01X\\x14\\x00\\x00\\x00use_batchnorm.choiceq\\x07K\\x01X\\x0c\\x00\\x00\\x00weight_decayq\\x08G>vd\\\\\\x82\\xe1\\xe6^u.' and reward: 0.770949720670391\n",
      "Please either provide filename or allow plot in get_training_curves\n",
      "Fitting model: weighted_ensemble_k0_l1 ... Training model for up to 119.96s of the 113.79s of remaining time.\n",
      "\t0.8603\t = Validation accuracy score\n",
      "\t0.43s\t = Training runtime\n",
      "\t0.0s\t = Validation runtime\n",
      "AutoGluon training complete, total runtime = 6.65s ...\n"
     ]
    },
    {
     "ename": "TypeError",
     "evalue": "'Model' object is not iterable",
     "output_type": "error",
     "traceback": [
      "\u001b[0;31m---------------------------------------------------------------------------\u001b[0m",
      "\u001b[0;31mTypeError\u001b[0m                                 Traceback (most recent call last)",
      "\u001b[0;32m<ipython-input-3-2ba897cd6d3f>\u001b[0m in \u001b[0;36m<module>\u001b[0;34m\u001b[0m\n\u001b[1;32m      1\u001b[0m \u001b[0mmodel\u001b[0m         \u001b[0;34m=\u001b[0m  \u001b[0mmodule\u001b[0m\u001b[0;34m.\u001b[0m\u001b[0mModel\u001b[0m\u001b[0;34m(\u001b[0m\u001b[0mmodel_pars\u001b[0m\u001b[0;34m=\u001b[0m\u001b[0mmodel_pars\u001b[0m\u001b[0;34m,\u001b[0m \u001b[0mcompute_pars\u001b[0m\u001b[0;34m=\u001b[0m\u001b[0mcompute_pars\u001b[0m\u001b[0;34m)\u001b[0m             \u001b[0;31m# Create Model instance\u001b[0m\u001b[0;34m\u001b[0m\u001b[0m\n\u001b[0;32m----> 2\u001b[0;31m \u001b[0mmodel\u001b[0m\u001b[0;34m,\u001b[0m \u001b[0msess\u001b[0m   \u001b[0;34m=\u001b[0m  \u001b[0mmodule\u001b[0m\u001b[0;34m.\u001b[0m\u001b[0mfit\u001b[0m\u001b[0;34m(\u001b[0m\u001b[0mmodel\u001b[0m\u001b[0;34m,\u001b[0m \u001b[0mmodel_pars\u001b[0m\u001b[0;34m=\u001b[0m\u001b[0mmodel_pars\u001b[0m\u001b[0;34m,\u001b[0m \u001b[0mdata_pars\u001b[0m\u001b[0;34m=\u001b[0m\u001b[0mdata_pars\u001b[0m\u001b[0;34m,\u001b[0m \u001b[0mcompute_pars\u001b[0m\u001b[0;34m=\u001b[0m\u001b[0mcompute_pars\u001b[0m\u001b[0;34m,\u001b[0m \u001b[0mout_pars\u001b[0m\u001b[0;34m=\u001b[0m\u001b[0mout_pars\u001b[0m\u001b[0;34m)\u001b[0m          \u001b[0;31m# fit the model\u001b[0m\u001b[0;34m\u001b[0m\u001b[0m\n\u001b[0m",
      "\u001b[0;31mTypeError\u001b[0m: 'Model' object is not iterable"
     ]
    },
    {
     "data": {
      "image/png": "[encoded data removed]",
      "text/plain": [
       "<Figure size 432x288 with 1 Axes>"
      ]
     },
     "metadata": {
      "needs_background": "light"
     },
     "output_type": "display_data"
    }
   ],
   "source": [
    "model         =  module.Model(model_pars=model_pars, compute_pars=compute_pars)             # Create Model instance\n",
    "model, sess   =  module.fit(model, model_pars=model_pars, data_pars=data_pars, compute_pars=compute_pars, out_pars=out_pars)          # fit the model"
   ]
  },
  {
   "cell_type": "markdown",
   "metadata": {},
   "source": [
    "## Check inference"
   ]
  },
  {
   "cell_type": "code",
   "execution_count": 4,
   "metadata": {},
   "outputs": [],
   "source": [
    "data_pars['data_path'] = \"../mlmodels/dataset/tabular/titanic_test_preprocessed.csv\"\n",
    "ypred       = module.predict(model,  data_pars=data_pars, compute_pars=compute_pars, out_pars=out_pars)     # predict pipeline"
   ]
  },
  {
   "cell_type": "code",
   "execution_count": null,
   "metadata": {},
   "outputs": [],
   "source": []
  }
 ],
 "metadata": {
  "kernelspec": {
   "display_name": "Python 3",
   "language": "python",
   "name": "python3"
  },
  "language_info": {
   "codemirror_mode": {
    "name": "ipython",
    "version": 3
   },
   "file_extension": ".py",
   "mimetype": "text/x-python",
   "name": "python",
   "nbconvert_exporter": "python",
   "pygments_lexer": "ipython3",
   "version": "3.6.5"
  }
 },
 "nbformat": 4,
 "nbformat_minor": 4
}
