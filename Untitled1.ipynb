{
 "cells": [
  {
   "cell_type": "code",
   "execution_count": 1,
   "metadata": {},
   "outputs": [
    {
     "name": "stdout",
     "output_type": "stream",
     "text": [
      "<module 'mlmodels' from '/workspace/mlmodels/mlmodels/__init__.py'>\n"
     ]
    }
   ],
   "source": [
    "import tensorflow, mlmodels\n",
    "print(mlmodels)"
   ]
  },
  {
   "cell_type": "code",
   "execution_count": 2,
   "metadata": {},
   "outputs": [
    {
     "name": "stdout",
     "output_type": "stream",
     "text": [
      "Deprecaton set to False\n",
      "/workspace/mlmodels/mlmodels\n",
      "\n",
      "  ('path_save', '/workspace/mlmodels/ztest/optuna_1lstm/', '/workspace/mlmodels/mlmodels/dataset/timeseries/GOOG-year_small.csv') \n",
      "\n",
      "  ('model details', 'model_tf.1_lstm', {'engine_pars': {'engine': 'optuna', 'method': 'normal', 'ntrials': 2, 'metric_target': 'loss'}, 'learning_rate': {'type': 'log_uniform', 'init': 0.01, 'range': [0.001, 0.1]}, 'num_layers': {'type': 'int', 'init': 2, 'range': [2, 4]}, 'size': {'type': 'int', 'init': 6, 'range': [6, 6]}, 'output_size': {'type': 'int', 'init': 6, 'range': [6, 6]}, 'size_layer': {'type': 'categorical', 'value': [128, 256]}, 'timestep': {'type': 'categorical', 'value': [5]}, 'epoch': {'type': 'categorical', 'value': [2]}}) \n",
      "\n",
      "  ({'model_uri': 'model_tf.1_lstm', 'learning_rate': 0.001, 'num_layers': 1, 'size': None, 'size_layer': 128, 'output_size': None, 'timestep': 4, 'epoch': 2}, {'data_path': '/workspace/mlmodels/mlmodels/dataset/timeseries/GOOG-year_small.csv', 'data_type': 'pandas'}, {}, {'engine_pars': {'engine': 'optuna', 'method': 'normal', 'ntrials': 2, 'metric_target': 'loss'}, 'learning_rate': {'type': 'log_uniform', 'init': 0.01, 'range': [0.001, 0.1]}, 'num_layers': {'type': 'int', 'init': 2, 'range': [2, 4]}, 'size': {'type': 'int', 'init': 6, 'range': [6, 6]}, 'output_size': {'type': 'int', 'init': 6, 'range': [6, 6]}, 'size_layer': {'type': 'categorical', 'value': [128, 256]}, 'timestep': {'type': 'categorical', 'value': [5]}, 'epoch': {'type': 'categorical', 'value': [2]}}) \n",
      "\n",
      "  (<module 'mlmodels.model_tf.1_lstm' from '/workspace/mlmodels/mlmodels/model_tf/1_lstm.py'>,) \n",
      "\n",
      "  ('###### Hyper-optimization through study   ##################################',) \n",
      "\n",
      "  ('check', <module 'mlmodels.model_tf.1_lstm' from '/workspace/mlmodels/mlmodels/model_tf/1_lstm.py'>, {'data_path': '/workspace/mlmodels/mlmodels/dataset/timeseries/GOOG-year_small.csv', 'data_type': 'pandas'}) \n",
      "{'data_path': '/workspace/mlmodels/mlmodels/dataset/timeseries/GOOG-year_small.csv', 'data_type': 'pandas'}\n",
      "/workspace/mlmodels/mlmodels\n",
      "/workspace/mlmodels/mlmodels/dataset/timeseries/GOOG-year_small.csv\n",
      "         Date        Open        High  ...       Close   Adj Close   Volume\n",
      "0  2016-11-02  778.200012  781.650024  ...  768.700012  768.700012  1872400\n",
      "1  2016-11-03  767.250000  769.950012  ...  762.130005  762.130005  1943200\n",
      "2  2016-11-04  750.659973  770.359985  ...  762.020020  762.020020  2134800\n",
      "3  2016-11-07  774.500000  785.190002  ...  782.520020  782.520020  1585100\n",
      "4  2016-11-08  783.400024  795.632996  ...  790.510010  790.510010  1350800\n",
      "\n",
      "[5 rows x 7 columns]\n",
      "          0         1         2         3         4         5\n",
      "0  0.706562  0.629914  0.682052  0.599302  0.599302  0.153665\n",
      "1  0.458824  0.320251  0.598101  0.478596  0.478596  0.174523\n",
      "2  0.083484  0.331101  0.437246  0.476576  0.476576  0.230969\n",
      "3  0.622851  0.723606  0.854891  0.853206  0.853206  0.069025\n",
      "4  0.824209  1.000000  1.000000  1.000000  1.000000  0.000000\n",
      "\u001b[32m[I 2020-03-31 08:52:51,056]\u001b[0m Finished trial#0 resulted in value: 0.4433557540178299. Current best value is 0.4433557540178299 with parameters: {'learning_rate': 0.008991990128858292, 'num_layers': 3, 'size': 6, 'output_size': 6, 'size_layer': 128, 'timestep': 5, 'epoch': 2}.\u001b[0m\n",
      "\n",
      "  ('check', <module 'mlmodels.model_tf.1_lstm' from '/workspace/mlmodels/mlmodels/model_tf/1_lstm.py'>, {'data_path': '/workspace/mlmodels/mlmodels/dataset/timeseries/GOOG-year_small.csv', 'data_type': 'pandas'}) \n",
      "{'data_path': '/workspace/mlmodels/mlmodels/dataset/timeseries/GOOG-year_small.csv', 'data_type': 'pandas'}\n",
      "/workspace/mlmodels/mlmodels\n",
      "/workspace/mlmodels/mlmodels/dataset/timeseries/GOOG-year_small.csv\n",
      "         Date        Open        High  ...       Close   Adj Close   Volume\n",
      "0  2016-11-02  778.200012  781.650024  ...  768.700012  768.700012  1872400\n",
      "1  2016-11-03  767.250000  769.950012  ...  762.130005  762.130005  1943200\n",
      "2  2016-11-04  750.659973  770.359985  ...  762.020020  762.020020  2134800\n",
      "3  2016-11-07  774.500000  785.190002  ...  782.520020  782.520020  1585100\n",
      "4  2016-11-08  783.400024  795.632996  ...  790.510010  790.510010  1350800\n",
      "\n",
      "[5 rows x 7 columns]\n",
      "          0         1         2         3         4         5\n",
      "0  0.706562  0.629914  0.682052  0.599302  0.599302  0.153665\n",
      "1  0.458824  0.320251  0.598101  0.478596  0.478596  0.174523\n",
      "2  0.083484  0.331101  0.437246  0.476576  0.476576  0.230969\n",
      "3  0.622851  0.723606  0.854891  0.853206  0.853206  0.069025\n",
      "4  0.824209  1.000000  1.000000  1.000000  1.000000  0.000000\n",
      "\u001b[32m[I 2020-03-31 08:52:53,158]\u001b[0m Finished trial#1 resulted in value: 0.31794845312833786. Current best value is 0.31794845312833786 with parameters: {'learning_rate': 0.0011194021390014798, 'num_layers': 2, 'size': 6, 'output_size': 6, 'size_layer': 128, 'timestep': 5, 'epoch': 2}.\u001b[0m\n",
      "\n",
      " ################################### ('Optim, finished',) ###################################\n",
      "\n",
      "  ('### Save Stats   ##########################################################',) \n",
      "\n",
      "  ('### Run Model with best   #################################################',) \n",
      "{'data_path': '/workspace/mlmodels/mlmodels/dataset/timeseries/GOOG-year_small.csv', 'data_type': 'pandas'}\n",
      "/workspace/mlmodels/mlmodels\n",
      "/workspace/mlmodels/mlmodels/dataset/timeseries/GOOG-year_small.csv\n",
      "         Date        Open        High  ...       Close   Adj Close   Volume\n",
      "0  2016-11-02  778.200012  781.650024  ...  768.700012  768.700012  1872400\n",
      "1  2016-11-03  767.250000  769.950012  ...  762.130005  762.130005  1943200\n",
      "2  2016-11-04  750.659973  770.359985  ...  762.020020  762.020020  2134800\n",
      "3  2016-11-07  774.500000  785.190002  ...  782.520020  782.520020  1585100\n",
      "4  2016-11-08  783.400024  795.632996  ...  790.510010  790.510010  1350800\n",
      "\n",
      "[5 rows x 7 columns]\n",
      "          0         1         2         3         4         5\n",
      "0  0.706562  0.629914  0.682052  0.599302  0.599302  0.153665\n",
      "1  0.458824  0.320251  0.598101  0.478596  0.478596  0.174523\n",
      "2  0.083484  0.331101  0.437246  0.476576  0.476576  0.230969\n",
      "3  0.622851  0.723606  0.854891  0.853206  0.853206  0.069025\n",
      "4  0.824209  1.000000  1.000000  1.000000  1.000000  0.000000\n",
      "\n",
      "  ('#### Saving     ###########################################################',) \n",
      "{'path': 'ztest/optuna_1lstm/', 'model_type': 'model_tf', 'model_uri': 'model_tf-1_lstm'}\n",
      "\n",
      " ############################## ('Finished OPTIMIZATION',) ##############################\n",
      "{'model_uri': 'model_tf.1_lstm', 'learning_rate': 0.0011194021390014798, 'num_layers': 2, 'size': 6, 'size_layer': 128, 'output_size': 6, 'timestep': 5, 'epoch': 2, 'best_value': 0.31794845312833786, 'model_name': None}\n"
     ]
    }
   ],
   "source": [
    "!ml_optim"
   ]
  },
  {
   "cell_type": "code",
   "execution_count": null,
   "metadata": {},
   "outputs": [],
   "source": []
  }
 ],
 "metadata": {
  "kernelspec": {
   "display_name": "Python 3",
   "language": "python",
   "name": "python3"
  },
  "language_info": {
   "codemirror_mode": {
    "name": "ipython",
    "version": 3
   },
   "file_extension": ".py",
   "mimetype": "text/x-python",
   "name": "python",
   "nbconvert_exporter": "python",
   "pygments_lexer": "ipython3",
   "version": "3.6.5"
  }
 },
 "nbformat": 4,
 "nbformat_minor": 4
}
